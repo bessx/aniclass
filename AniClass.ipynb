{
  "nbformat": 4,
  "nbformat_minor": 0,
  "metadata": {
    "kernelspec": {
      "name": "python3",
      "display_name": "Python 3"
    },
    "ssap_exp_config": {
      "error_alert": "Error Occurs!",
      "initial": [],
      "max_iteration": 1000,
      "recv_id": "",
      "running": [],
      "summary": [],
      "version": "1.1.1"
    },
    "colab": {
      "name": "CSC 7333 Image Classification Project.ipynb",
      "provenance": [],
      "collapsed_sections": [],
      "toc_visible": true,
      "include_colab_link": true
    },
    "accelerator": "GPU"
  },
  "cells": [
    {
      "cell_type": "markdown",
      "metadata": {
        "id": "view-in-github",
        "colab_type": "text"
      },
      "source": [
        "<a href=\"https://colab.research.google.com/github/bessx/aniclass/blob/master/AniClass.ipynb\" target=\"_parent\"><img src=\"https://colab.research.google.com/assets/colab-badge.svg\" alt=\"Open In Colab\"/></a>"
      ]
    },
    {
      "cell_type": "markdown",
      "metadata": {
        "id": "P7upzo1Ey4aq",
        "colab_type": "text"
      },
      "source": [
        "# Import Commands"
      ]
    },
    {
      "cell_type": "code",
      "metadata": {
        "id": "ZxePr-Sppn4f",
        "colab_type": "code",
        "colab": {
          "base_uri": "https://localhost:8080/",
          "height": 34
        },
        "outputId": "d2772788-7342-4c59-8b61-f76b38bb766b"
      },
      "source": [
        "from keras.applications import xception, vgg16, inception_v3\n",
        "# from keras.applications.resnet import ResNet101,ResNet152,ResNet50\n",
        "# from keras.applications.densenet import DenseNet121,DenseNet169,DenseNet201\n",
        "# from keras.applications.nasnet import NASNetMobile,NASNetLarge\n",
        "\n",
        "#from keras.applications.vgg16 import VGG16\n",
        "from keras.preprocessing import image\n",
        "from keras.preprocessing.image import ImageDataGenerator, load_img, img_to_array\n",
        "from keras.applications.vgg16 import preprocess_input, decode_predictions\n",
        "from keras.applications.inception_v3 import InceptionV3\n",
        "from keras.models import Model, Sequential, clone_model\n",
        "from keras import layers, utils\n",
        "from keras.layers import Dense, Activation, Flatten, add\n",
        "from keras.layers.pooling import GlobalAveragePooling2D\n",
        "from keras.utils.np_utils import to_categorical\n",
        "from keras.optimizers import SGD\n",
        "from keras.callbacks import History, ModelCheckpoint\n",
        "\n",
        "import pandas as pd\n",
        "import numpy as np\n",
        "import matplotlib.pyplot as plt\n",
        "\n",
        "from PIL import ImageFile\n",
        "ImageFile.LOAD_TRUNCATED_IMAGES = True\n",
        "\n",
        "%matplotlib inline"
      ],
      "execution_count": 1,
      "outputs": [
        {
          "output_type": "stream",
          "text": [
            "Using TensorFlow backend.\n"
          ],
          "name": "stderr"
        }
      ]
    },
    {
      "cell_type": "markdown",
      "metadata": {
        "id": "CL5IzoySxn61",
        "colab_type": "text"
      },
      "source": [
        "# Get Images Files"
      ]
    },
    {
      "cell_type": "code",
      "metadata": {
        "id": "EPDtz0OEwCFq",
        "colab_type": "code",
        "colab": {}
      },
      "source": [
        "%%bash\n",
        "# download tars\n",
        "\n",
        "wget -nc http://csc.lsu.edu/~bess/aniclass/test.tgz\n",
        "wget -nc http://csc.lsu.edu/~bess/aniclass/teddy.tgz\n",
        "wget -nc http://csc.lsu.edu/~bess/aniclass/train100.tgz\n",
        "wget -nc http://csc.lsu.edu/~bess/aniclass/train1000.tgz\n",
        "wget -nc http://csc.lsu.edu/~bess/aniclass/train10000.tgz"
      ],
      "execution_count": 0,
      "outputs": []
    },
    {
      "cell_type": "code",
      "metadata": {
        "id": "y4WnD64ZO8v5",
        "colab_type": "code",
        "colab": {}
      },
      "source": [
        "%%bash\n",
        "# unpack tars\n",
        "\n",
        "tar xzvkf test.tgz\n",
        "tar xzvkf teddy.tgz\n",
        "tar xzvkf train100.tgz\n",
        "tar xzvkf train1000.tgz\n",
        "tar xzvkf train10000.tgz"
      ],
      "execution_count": 0,
      "outputs": []
    },
    {
      "cell_type": "code",
      "metadata": {
        "id": "k2Zuo7o7aKz_",
        "colab_type": "code",
        "outputId": "305f8f25-3e63-4dca-bf37-eb25ab11e7e2",
        "colab": {
          "base_uri": "https://localhost:8080/",
          "height": 136
        }
      },
      "source": [
        "# check for issues\n",
        "ls -alh"
      ],
      "execution_count": 0,
      "outputs": [
        {
          "output_type": "stream",
          "text": [
            "total 176M\n",
            "drwxr-xr-x  1 root root 4.0K Apr 29 07:23 \u001b[0m\u001b[01;34m.\u001b[0m/\n",
            "drwxr-xr-x  1 root root 4.0K Apr 29 07:09 \u001b[01;34m..\u001b[0m/\n",
            "drwxr-xr-x  1 root root 4.0K Apr 27 16:13 \u001b[01;34m.config\u001b[0m/\n",
            "drwxr-xr-x  1 root root 4.0K Apr  3 16:24 \u001b[01;34msample_data\u001b[0m/\n",
            "drwxrwxrwx 12 root root 4.0K Apr 29 03:59 \u001b[34;42mtrain100\u001b[0m/\n",
            "-rw-r--r--  1 root root 176M Apr 29 04:08 train100.tgz\n"
          ],
          "name": "stdout"
        }
      ]
    },
    {
      "cell_type": "markdown",
      "metadata": {
        "id": "MCus3K8By8Xk",
        "colab_type": "text"
      },
      "source": [
        "# Models Setup"
      ]
    },
    {
      "cell_type": "code",
      "metadata": {
        "id": "miIxpooG0BZu",
        "colab_type": "code",
        "colab": {}
      },
      "source": [
        "# Import Pre-trained Models and save to /models\n",
        "# VGG16\n",
        "# Xception\n",
        "# InceptionV3\n",
        "\n",
        "xcept_pre = xception.Xception(include_top=True, weights='imagenet')\n",
        "xcept_pre.name = 'xcept' \n",
        "vgg16_pre = vgg16.VGG16(include_top=True, weights='imagenet')\n",
        "vgg16_pre.name = 'vgg16' \n",
        "incept_pre = inception_v3.InceptionV3(include_top=True, weights='imagenet')\n",
        "incept_pre.name = 'incept' "
      ],
      "execution_count": 0,
      "outputs": []
    },
    {
      "cell_type": "code",
      "metadata": {
        "id": "qcKGDD28gFk0",
        "colab_type": "code",
        "outputId": "f6d240fc-5f28-4c20-9be6-3e769062709e",
        "colab": {
          "base_uri": "https://localhost:8080/",
          "height": 85
        }
      },
      "source": [
        "!mkdir models\n",
        "model_list = [xcept_pre, vgg16_pre, incept_pre]\n",
        "\n",
        "for mdl in model_list:\n",
        "  mdl.save('models/' + mdl.name + '_pre.h5')\n",
        "  print('Saved ' + mdl.name + '_pre to disk')"
      ],
      "execution_count": 23,
      "outputs": [
        {
          "output_type": "stream",
          "text": [
            "mkdir: cannot create directory ‘models’: File exists\n",
            "Saved xcept_pre to disk\n",
            "Saved vgg16_pre to disk\n",
            "Saved incept_pre to disk\n"
          ],
          "name": "stdout"
        }
      ]
    },
    {
      "cell_type": "code",
      "metadata": {
        "id": "zzUGFmprpCEd",
        "colab_type": "code",
        "colab": {}
      },
      "source": [
        "incept_pre.summary()"
      ],
      "execution_count": 0,
      "outputs": []
    },
    {
      "cell_type": "code",
      "metadata": {
        "id": "bMX-8HHBqE54",
        "colab_type": "code",
        "colab": {}
      },
      "source": [
        "# Top Model Block\n",
        "x = xcept_pre.output\n",
        "x = GlobalAveragePooling2D()(x)\n",
        "predictions = Dense(10, activation='softmax')(x)\n",
        "\n",
        "# add your top layer block to your base model\n",
        "xcept_train = Model(xcept_pre.input, predictions)\n",
        "print(xcept_train.summary())"
      ],
      "execution_count": 0,
      "outputs": []
    },
    {
      "cell_type": "code",
      "metadata": {
        "id": "Ih5sQt1L07kN",
        "colab_type": "code",
        "colab": {}
      },
      "source": [
        "print(xcept_train.summary())"
      ],
      "execution_count": 0,
      "outputs": []
    },
    {
      "cell_type": "code",
      "metadata": {
        "id": "0AIKl18i9HBR",
        "colab_type": "code",
        "colab": {}
      },
      "source": [
        "# Make Untrained VGG16 Clone\n",
        "# ovgg16_10 = clone_model(vgg16_h5)\n",
        "# ovgg16_10.set_weights(vgg16_h5.get_weights())\n",
        "# ovgg16.layers.pop()\n",
        "# ovgg16.summary()"
      ],
      "execution_count": 0,
      "outputs": []
    },
    {
      "cell_type": "code",
      "metadata": {
        "id": "q6T5C9Ts5LXC",
        "colab_type": "code",
        "colab": {}
      },
      "source": [
        "# ovgg16_input  = vgg16_h5.get_layer(index=0).input\n",
        "# ovgg16_output = vgg16_h5.get_layer(index=-3).output\n",
        "# ovgg16_model = Model(inputs=ovgg16_input, outputs=ovgg16_output)\n",
        "\n",
        "# ovgg16 = Sequential()\n",
        "# ovgg16.add(ovgg16_model)\n",
        "# ovgg16.add(Dense(10, activation='softmax', input_dim=4096, name='predictions'))"
      ],
      "execution_count": 0,
      "outputs": []
    },
    {
      "cell_type": "code",
      "metadata": {
        "id": "Z9fVHTna2_O3",
        "colab_type": "code",
        "colab": {}
      },
      "source": [
        "# CHENG\n",
        "# x = Dense(10, activation='softmax', name='predictions')(ovgg16.layers[-2].output)\n",
        "# ovgg16 = Model(input=vgg16_h5.input, output=x)"
      ],
      "execution_count": 0,
      "outputs": []
    },
    {
      "cell_type": "code",
      "metadata": {
        "id": "LS04A1bJ1yZ5",
        "colab_type": "code",
        "colab": {}
      },
      "source": [
        "xcept_pre.summary()"
      ],
      "execution_count": 0,
      "outputs": []
    },
    {
      "cell_type": "code",
      "metadata": {
        "id": "uIXDvtMBiTeN",
        "colab_type": "code",
        "outputId": "693f91bf-79b6-4935-f2bb-35a612b16e42",
        "colab": {
          "base_uri": "https://localhost:8080/",
          "height": 1000
        }
      },
      "source": [
        "## Freeze all but last two layers of the model\n",
        "for ind, layer in enumerate(xcept_pre.layers):\n",
        "  if ind >= (len(xcept_pre.layers)-2):\n",
        "    layer.trainable = True\n",
        "    print(ind, layer, \"if\")\n",
        "  else: \n",
        "    layer.trainable = False\n",
        "    print(ind, layer, \"else\")\n",
        "\n",
        "xcept_pre.summary()\n",
        "\n",
        "#layer_l1 = model.get_layer('fc2')\n",
        "#layer_l2 = model.get_layer('predictions')\n",
        "#layer_l1.trainable=True\n",
        "#layer_l2.trainable=True"
      ],
      "execution_count": 3,
      "outputs": [
        {
          "output_type": "stream",
          "text": [
            "0 <keras.engine.input_layer.InputLayer object at 0x7f97bf1571d0> else\n",
            "1 <keras.layers.convolutional.Conv2D object at 0x7f977cddccf8> else\n",
            "2 <keras.layers.normalization.BatchNormalization object at 0x7f977cddcf28> else\n",
            "3 <keras.layers.core.Activation object at 0x7f977cddcf98> else\n",
            "4 <keras.layers.convolutional.Conv2D object at 0x7f97db205278> else\n",
            "5 <keras.layers.normalization.BatchNormalization object at 0x7f97701f1cc0> else\n",
            "6 <keras.layers.core.Activation object at 0x7f97701f16d8> else\n",
            "7 <keras.layers.convolutional.SeparableConv2D object at 0x7f97701d2668> else\n",
            "8 <keras.layers.normalization.BatchNormalization object at 0x7f9770170d68> else\n",
            "9 <keras.layers.core.Activation object at 0x7f9770197978> else\n",
            "10 <keras.layers.convolutional.SeparableConv2D object at 0x7f97c88ef710> else\n",
            "11 <keras.layers.normalization.BatchNormalization object at 0x7f97701379b0> else\n",
            "12 <keras.layers.convolutional.Conv2D object at 0x7f97701baa58> else\n",
            "13 <keras.layers.pooling.MaxPooling2D object at 0x7f9770154a20> else\n",
            "14 <keras.layers.normalization.BatchNormalization object at 0x7f97701d2c50> else\n",
            "15 <keras.layers.merge.Add object at 0x7f97701549e8> else\n",
            "16 <keras.layers.core.Activation object at 0x7f97700fb6d8> else\n",
            "17 <keras.layers.convolutional.SeparableConv2D object at 0x7f9770106828> else\n",
            "18 <keras.layers.normalization.BatchNormalization object at 0x7f9770118940> else\n",
            "19 <keras.layers.core.Activation object at 0x7f97700b8a20> else\n",
            "20 <keras.layers.convolutional.SeparableConv2D object at 0x7f97700b89b0> else\n",
            "21 <keras.layers.normalization.BatchNormalization object at 0x7f97700bd240> else\n",
            "22 <keras.layers.convolutional.Conv2D object at 0x7f9770154c88> else\n",
            "23 <keras.layers.pooling.MaxPooling2D object at 0x7f97700db4a8> else\n",
            "24 <keras.layers.normalization.BatchNormalization object at 0x7f97700edd30> else\n",
            "25 <keras.layers.merge.Add object at 0x7f97700695f8> else\n",
            "26 <keras.layers.core.Activation object at 0x7f977009bc50> else\n",
            "27 <keras.layers.convolutional.SeparableConv2D object at 0x7f97700a04e0> else\n",
            "28 <keras.layers.normalization.BatchNormalization object at 0x7f97700337b8> else\n",
            "29 <keras.layers.core.Activation object at 0x7f9770050b38> else\n",
            "30 <keras.layers.convolutional.SeparableConv2D object at 0x7f9770050828> else\n",
            "31 <keras.layers.normalization.BatchNormalization object at 0x7f97700550b8> else\n",
            "32 <keras.layers.convolutional.Conv2D object at 0x7f9770069dd8> else\n",
            "33 <keras.layers.pooling.MaxPooling2D object at 0x7f972018bcf8> else\n",
            "34 <keras.layers.normalization.BatchNormalization object at 0x7f9770083c18> else\n",
            "35 <keras.layers.merge.Add object at 0x7f9720197470> else\n",
            "36 <keras.layers.core.Activation object at 0x7f9720197c88> else\n",
            "37 <keras.layers.convolutional.SeparableConv2D object at 0x7f9720197c50> else\n",
            "38 <keras.layers.normalization.BatchNormalization object at 0x7f9720136fd0> else\n",
            "39 <keras.layers.core.Activation object at 0x7f972014dd68> else\n",
            "40 <keras.layers.convolutional.SeparableConv2D object at 0x7f972014dda0> else\n",
            "41 <keras.layers.normalization.BatchNormalization object at 0x7f9720160cf8> else\n",
            "42 <keras.layers.core.Activation object at 0x7f97200fef98> else\n",
            "43 <keras.layers.convolutional.SeparableConv2D object at 0x7f97200fefd0> else\n",
            "44 <keras.layers.normalization.BatchNormalization object at 0x7f9720117b00> else\n",
            "45 <keras.layers.merge.Add object at 0x7f9720132be0> else\n",
            "46 <keras.layers.core.Activation object at 0x7f9720197c18> else\n",
            "47 <keras.layers.convolutional.SeparableConv2D object at 0x7f9720132ba8> else\n",
            "48 <keras.layers.normalization.BatchNormalization object at 0x7f97200cb668> else\n",
            "49 <keras.layers.core.Activation object at 0x7f97200e89b0> else\n",
            "50 <keras.layers.convolutional.SeparableConv2D object at 0x7f97200e8940> else\n",
            "51 <keras.layers.normalization.BatchNormalization object at 0x7f97200ef1d0> else\n",
            "52 <keras.layers.core.Activation object at 0x7f972008ecc0> else\n",
            "53 <keras.layers.convolutional.SeparableConv2D object at 0x7f972009deb8> else\n",
            "54 <keras.layers.normalization.BatchNormalization object at 0x7f97200b0fd0> else\n",
            "55 <keras.layers.merge.Add object at 0x7f972004ccf8> else\n",
            "56 <keras.layers.core.Activation object at 0x7f9720132b38> else\n",
            "57 <keras.layers.convolutional.SeparableConv2D object at 0x7f9720052160> else\n",
            "58 <keras.layers.normalization.BatchNormalization object at 0x7f9720065ba8> else\n",
            "59 <keras.layers.core.Activation object at 0x7f97157caeb8> else\n",
            "60 <keras.layers.convolutional.SeparableConv2D object at 0x7f97157cae80> else\n",
            "61 <keras.layers.normalization.BatchNormalization object at 0x7f97157e29e8> else\n",
            "62 <keras.layers.core.Activation object at 0x7f9715780ac8> else\n",
            "63 <keras.layers.convolutional.SeparableConv2D object at 0x7f9715780a58> else\n",
            "64 <keras.layers.normalization.BatchNormalization object at 0x7f97157842e8> else\n",
            "65 <keras.layers.merge.Add object at 0x7f97157b4668> else\n",
            "66 <keras.layers.core.Activation object at 0x7f97200520b8> else\n",
            "67 <keras.layers.convolutional.SeparableConv2D object at 0x7f97157b4f28> else\n",
            "68 <keras.layers.normalization.BatchNormalization object at 0x7f971574e128> else\n",
            "69 <keras.layers.core.Activation object at 0x7f9715769d68> else\n",
            "70 <keras.layers.convolutional.SeparableConv2D object at 0x7f9715769da0> else\n",
            "71 <keras.layers.normalization.BatchNormalization object at 0x7f971577acf8> else\n",
            "72 <keras.layers.core.Activation object at 0x7f9715718f98> else\n",
            "73 <keras.layers.convolutional.SeparableConv2D object at 0x7f9715718fd0> else\n",
            "74 <keras.layers.normalization.BatchNormalization object at 0x7f971572fb00> else\n",
            "75 <keras.layers.merge.Add object at 0x7f97156cfbe0> else\n",
            "76 <keras.layers.core.Activation object at 0x7f97157b45f8> else\n",
            "77 <keras.layers.convolutional.SeparableConv2D object at 0x7f97156cfba8> else\n",
            "78 <keras.layers.normalization.BatchNormalization object at 0x7f97156e5668> else\n",
            "79 <keras.layers.core.Activation object at 0x7f971567f9b0> else\n",
            "80 <keras.layers.convolutional.SeparableConv2D object at 0x7f971567f940> else\n",
            "81 <keras.layers.normalization.BatchNormalization object at 0x7f97156851d0> else\n",
            "82 <keras.layers.core.Activation object at 0x7f97156a6cc0> else\n",
            "83 <keras.layers.convolutional.SeparableConv2D object at 0x7f97156b5eb8> else\n",
            "84 <keras.layers.normalization.BatchNormalization object at 0x7f9715649fd0> else\n",
            "85 <keras.layers.merge.Add object at 0x7f9715667cf8> else\n",
            "86 <keras.layers.core.Activation object at 0x7f97156cfb38> else\n",
            "87 <keras.layers.convolutional.SeparableConv2D object at 0x7f971566a160> else\n",
            "88 <keras.layers.normalization.BatchNormalization object at 0x7f971567cba8> else\n",
            "89 <keras.layers.core.Activation object at 0x7f971561beb8> else\n",
            "90 <keras.layers.convolutional.SeparableConv2D object at 0x7f971561be80> else\n",
            "91 <keras.layers.normalization.BatchNormalization object at 0x7f97156329e8> else\n",
            "92 <keras.layers.core.Activation object at 0x7f97155cdac8> else\n",
            "93 <keras.layers.convolutional.SeparableConv2D object at 0x7f97155cda58> else\n",
            "94 <keras.layers.normalization.BatchNormalization object at 0x7f97155d22e8> else\n",
            "95 <keras.layers.merge.Add object at 0x7f9715584668> else\n",
            "96 <keras.layers.core.Activation object at 0x7f971566a0b8> else\n",
            "97 <keras.layers.convolutional.SeparableConv2D object at 0x7f9715584f28> else\n",
            "98 <keras.layers.normalization.BatchNormalization object at 0x7f971559f128> else\n",
            "99 <keras.layers.core.Activation object at 0x7f97155bcd68> else\n",
            "100 <keras.layers.convolutional.SeparableConv2D object at 0x7f97155bcda0> else\n",
            "101 <keras.layers.normalization.BatchNormalization object at 0x7f971554bcf8> else\n",
            "102 <keras.layers.core.Activation object at 0x7f9715569f98> else\n",
            "103 <keras.layers.convolutional.SeparableConv2D object at 0x7f9715569fd0> else\n",
            "104 <keras.layers.normalization.BatchNormalization object at 0x7f9715500b00> else\n",
            "105 <keras.layers.merge.Add object at 0x7f971551cbe0> else\n",
            "106 <keras.layers.core.Activation object at 0x7f97155845f8> else\n",
            "107 <keras.layers.convolutional.SeparableConv2D object at 0x7f971551cba8> else\n",
            "108 <keras.layers.normalization.BatchNormalization object at 0x7f9715536668> else\n",
            "109 <keras.layers.core.Activation object at 0x7f97154d29b0> else\n",
            "110 <keras.layers.convolutional.SeparableConv2D object at 0x7f97154d2940> else\n",
            "111 <keras.layers.normalization.BatchNormalization object at 0x7f97154d81d0> else\n",
            "112 <keras.layers.core.Activation object at 0x7f97154facc0> else\n",
            "113 <keras.layers.convolutional.SeparableConv2D object at 0x7f9715486eb8> else\n",
            "114 <keras.layers.normalization.BatchNormalization object at 0x7f971549afd0> else\n",
            "115 <keras.layers.merge.Add object at 0x7f97154b9cf8> else\n",
            "116 <keras.layers.core.Activation object at 0x7f97154665c0> else\n",
            "117 <keras.layers.convolutional.SeparableConv2D object at 0x7f971546be10> else\n",
            "118 <keras.layers.normalization.BatchNormalization object at 0x7f971546bdd8> else\n",
            "119 <keras.layers.core.Activation object at 0x7f9715419da0> else\n",
            "120 <keras.layers.convolutional.SeparableConv2D object at 0x7f9715421b38> else\n",
            "121 <keras.layers.normalization.BatchNormalization object at 0x7f9715432cc0> else\n",
            "122 <keras.layers.convolutional.Conv2D object at 0x7f97154b1908> else\n",
            "123 <keras.layers.pooling.MaxPooling2D object at 0x7f97153d1d68> else\n",
            "124 <keras.layers.normalization.BatchNormalization object at 0x7f971544eb00> else\n",
            "125 <keras.layers.merge.Add object at 0x7f97153d1d30> else\n",
            "126 <keras.layers.convolutional.SeparableConv2D object at 0x7f97153d55c0> else\n",
            "127 <keras.layers.normalization.BatchNormalization object at 0x7f97153e7240> else\n",
            "128 <keras.layers.core.Activation object at 0x7f9715385be0> else\n",
            "129 <keras.layers.convolutional.SeparableConv2D object at 0x7f9715385b70> else\n",
            "130 <keras.layers.normalization.BatchNormalization object at 0x7f971539e6d8> else\n",
            "131 <keras.layers.core.Activation object at 0x7f97153bb780> else\n",
            "132 <keras.layers.pooling.GlobalAveragePooling2D object at 0x7f97153bba20> if\n",
            "133 <keras.layers.core.Dense object at 0x7f97153bbe80> if\n",
            "Model: \"xcept\"\n",
            "__________________________________________________________________________________________________\n",
            "Layer (type)                    Output Shape         Param #     Connected to                     \n",
            "==================================================================================================\n",
            "input_1 (InputLayer)            (None, 299, 299, 3)  0                                            \n",
            "__________________________________________________________________________________________________\n",
            "block1_conv1 (Conv2D)           (None, 149, 149, 32) 864         input_1[0][0]                    \n",
            "__________________________________________________________________________________________________\n",
            "block1_conv1_bn (BatchNormaliza (None, 149, 149, 32) 128         block1_conv1[0][0]               \n",
            "__________________________________________________________________________________________________\n",
            "block1_conv1_act (Activation)   (None, 149, 149, 32) 0           block1_conv1_bn[0][0]            \n",
            "__________________________________________________________________________________________________\n",
            "block1_conv2 (Conv2D)           (None, 147, 147, 64) 18432       block1_conv1_act[0][0]           \n",
            "__________________________________________________________________________________________________\n",
            "block1_conv2_bn (BatchNormaliza (None, 147, 147, 64) 256         block1_conv2[0][0]               \n",
            "__________________________________________________________________________________________________\n",
            "block1_conv2_act (Activation)   (None, 147, 147, 64) 0           block1_conv2_bn[0][0]            \n",
            "__________________________________________________________________________________________________\n",
            "block2_sepconv1 (SeparableConv2 (None, 147, 147, 128 8768        block1_conv2_act[0][0]           \n",
            "__________________________________________________________________________________________________\n",
            "block2_sepconv1_bn (BatchNormal (None, 147, 147, 128 512         block2_sepconv1[0][0]            \n",
            "__________________________________________________________________________________________________\n",
            "block2_sepconv2_act (Activation (None, 147, 147, 128 0           block2_sepconv1_bn[0][0]         \n",
            "__________________________________________________________________________________________________\n",
            "block2_sepconv2 (SeparableConv2 (None, 147, 147, 128 17536       block2_sepconv2_act[0][0]        \n",
            "__________________________________________________________________________________________________\n",
            "block2_sepconv2_bn (BatchNormal (None, 147, 147, 128 512         block2_sepconv2[0][0]            \n",
            "__________________________________________________________________________________________________\n",
            "conv2d_1 (Conv2D)               (None, 74, 74, 128)  8192        block1_conv2_act[0][0]           \n",
            "__________________________________________________________________________________________________\n",
            "block2_pool (MaxPooling2D)      (None, 74, 74, 128)  0           block2_sepconv2_bn[0][0]         \n",
            "__________________________________________________________________________________________________\n",
            "batch_normalization_1 (BatchNor (None, 74, 74, 128)  512         conv2d_1[0][0]                   \n",
            "__________________________________________________________________________________________________\n",
            "add_1 (Add)                     (None, 74, 74, 128)  0           block2_pool[0][0]                \n",
            "                                                                 batch_normalization_1[0][0]      \n",
            "__________________________________________________________________________________________________\n",
            "block3_sepconv1_act (Activation (None, 74, 74, 128)  0           add_1[0][0]                      \n",
            "__________________________________________________________________________________________________\n",
            "block3_sepconv1 (SeparableConv2 (None, 74, 74, 256)  33920       block3_sepconv1_act[0][0]        \n",
            "__________________________________________________________________________________________________\n",
            "block3_sepconv1_bn (BatchNormal (None, 74, 74, 256)  1024        block3_sepconv1[0][0]            \n",
            "__________________________________________________________________________________________________\n",
            "block3_sepconv2_act (Activation (None, 74, 74, 256)  0           block3_sepconv1_bn[0][0]         \n",
            "__________________________________________________________________________________________________\n",
            "block3_sepconv2 (SeparableConv2 (None, 74, 74, 256)  67840       block3_sepconv2_act[0][0]        \n",
            "__________________________________________________________________________________________________\n",
            "block3_sepconv2_bn (BatchNormal (None, 74, 74, 256)  1024        block3_sepconv2[0][0]            \n",
            "__________________________________________________________________________________________________\n",
            "conv2d_2 (Conv2D)               (None, 37, 37, 256)  32768       add_1[0][0]                      \n",
            "__________________________________________________________________________________________________\n",
            "block3_pool (MaxPooling2D)      (None, 37, 37, 256)  0           block3_sepconv2_bn[0][0]         \n",
            "__________________________________________________________________________________________________\n",
            "batch_normalization_2 (BatchNor (None, 37, 37, 256)  1024        conv2d_2[0][0]                   \n",
            "__________________________________________________________________________________________________\n",
            "add_2 (Add)                     (None, 37, 37, 256)  0           block3_pool[0][0]                \n",
            "                                                                 batch_normalization_2[0][0]      \n",
            "__________________________________________________________________________________________________\n",
            "block4_sepconv1_act (Activation (None, 37, 37, 256)  0           add_2[0][0]                      \n",
            "__________________________________________________________________________________________________\n",
            "block4_sepconv1 (SeparableConv2 (None, 37, 37, 728)  188672      block4_sepconv1_act[0][0]        \n",
            "__________________________________________________________________________________________________\n",
            "block4_sepconv1_bn (BatchNormal (None, 37, 37, 728)  2912        block4_sepconv1[0][0]            \n",
            "__________________________________________________________________________________________________\n",
            "block4_sepconv2_act (Activation (None, 37, 37, 728)  0           block4_sepconv1_bn[0][0]         \n",
            "__________________________________________________________________________________________________\n",
            "block4_sepconv2 (SeparableConv2 (None, 37, 37, 728)  536536      block4_sepconv2_act[0][0]        \n",
            "__________________________________________________________________________________________________\n",
            "block4_sepconv2_bn (BatchNormal (None, 37, 37, 728)  2912        block4_sepconv2[0][0]            \n",
            "__________________________________________________________________________________________________\n",
            "conv2d_3 (Conv2D)               (None, 19, 19, 728)  186368      add_2[0][0]                      \n",
            "__________________________________________________________________________________________________\n",
            "block4_pool (MaxPooling2D)      (None, 19, 19, 728)  0           block4_sepconv2_bn[0][0]         \n",
            "__________________________________________________________________________________________________\n",
            "batch_normalization_3 (BatchNor (None, 19, 19, 728)  2912        conv2d_3[0][0]                   \n",
            "__________________________________________________________________________________________________\n",
            "add_3 (Add)                     (None, 19, 19, 728)  0           block4_pool[0][0]                \n",
            "                                                                 batch_normalization_3[0][0]      \n",
            "__________________________________________________________________________________________________\n",
            "block5_sepconv1_act (Activation (None, 19, 19, 728)  0           add_3[0][0]                      \n",
            "__________________________________________________________________________________________________\n",
            "block5_sepconv1 (SeparableConv2 (None, 19, 19, 728)  536536      block5_sepconv1_act[0][0]        \n",
            "__________________________________________________________________________________________________\n",
            "block5_sepconv1_bn (BatchNormal (None, 19, 19, 728)  2912        block5_sepconv1[0][0]            \n",
            "__________________________________________________________________________________________________\n",
            "block5_sepconv2_act (Activation (None, 19, 19, 728)  0           block5_sepconv1_bn[0][0]         \n",
            "__________________________________________________________________________________________________\n",
            "block5_sepconv2 (SeparableConv2 (None, 19, 19, 728)  536536      block5_sepconv2_act[0][0]        \n",
            "__________________________________________________________________________________________________\n",
            "block5_sepconv2_bn (BatchNormal (None, 19, 19, 728)  2912        block5_sepconv2[0][0]            \n",
            "__________________________________________________________________________________________________\n",
            "block5_sepconv3_act (Activation (None, 19, 19, 728)  0           block5_sepconv2_bn[0][0]         \n",
            "__________________________________________________________________________________________________\n",
            "block5_sepconv3 (SeparableConv2 (None, 19, 19, 728)  536536      block5_sepconv3_act[0][0]        \n",
            "__________________________________________________________________________________________________\n",
            "block5_sepconv3_bn (BatchNormal (None, 19, 19, 728)  2912        block5_sepconv3[0][0]            \n",
            "__________________________________________________________________________________________________\n",
            "add_4 (Add)                     (None, 19, 19, 728)  0           block5_sepconv3_bn[0][0]         \n",
            "                                                                 add_3[0][0]                      \n",
            "__________________________________________________________________________________________________\n",
            "block6_sepconv1_act (Activation (None, 19, 19, 728)  0           add_4[0][0]                      \n",
            "__________________________________________________________________________________________________\n",
            "block6_sepconv1 (SeparableConv2 (None, 19, 19, 728)  536536      block6_sepconv1_act[0][0]        \n",
            "__________________________________________________________________________________________________\n",
            "block6_sepconv1_bn (BatchNormal (None, 19, 19, 728)  2912        block6_sepconv1[0][0]            \n",
            "__________________________________________________________________________________________________\n",
            "block6_sepconv2_act (Activation (None, 19, 19, 728)  0           block6_sepconv1_bn[0][0]         \n",
            "__________________________________________________________________________________________________\n",
            "block6_sepconv2 (SeparableConv2 (None, 19, 19, 728)  536536      block6_sepconv2_act[0][0]        \n",
            "__________________________________________________________________________________________________\n",
            "block6_sepconv2_bn (BatchNormal (None, 19, 19, 728)  2912        block6_sepconv2[0][0]            \n",
            "__________________________________________________________________________________________________\n",
            "block6_sepconv3_act (Activation (None, 19, 19, 728)  0           block6_sepconv2_bn[0][0]         \n",
            "__________________________________________________________________________________________________\n",
            "block6_sepconv3 (SeparableConv2 (None, 19, 19, 728)  536536      block6_sepconv3_act[0][0]        \n",
            "__________________________________________________________________________________________________\n",
            "block6_sepconv3_bn (BatchNormal (None, 19, 19, 728)  2912        block6_sepconv3[0][0]            \n",
            "__________________________________________________________________________________________________\n",
            "add_5 (Add)                     (None, 19, 19, 728)  0           block6_sepconv3_bn[0][0]         \n",
            "                                                                 add_4[0][0]                      \n",
            "__________________________________________________________________________________________________\n",
            "block7_sepconv1_act (Activation (None, 19, 19, 728)  0           add_5[0][0]                      \n",
            "__________________________________________________________________________________________________\n",
            "block7_sepconv1 (SeparableConv2 (None, 19, 19, 728)  536536      block7_sepconv1_act[0][0]        \n",
            "__________________________________________________________________________________________________\n",
            "block7_sepconv1_bn (BatchNormal (None, 19, 19, 728)  2912        block7_sepconv1[0][0]            \n",
            "__________________________________________________________________________________________________\n",
            "block7_sepconv2_act (Activation (None, 19, 19, 728)  0           block7_sepconv1_bn[0][0]         \n",
            "__________________________________________________________________________________________________\n",
            "block7_sepconv2 (SeparableConv2 (None, 19, 19, 728)  536536      block7_sepconv2_act[0][0]        \n",
            "__________________________________________________________________________________________________\n",
            "block7_sepconv2_bn (BatchNormal (None, 19, 19, 728)  2912        block7_sepconv2[0][0]            \n",
            "__________________________________________________________________________________________________\n",
            "block7_sepconv3_act (Activation (None, 19, 19, 728)  0           block7_sepconv2_bn[0][0]         \n",
            "__________________________________________________________________________________________________\n",
            "block7_sepconv3 (SeparableConv2 (None, 19, 19, 728)  536536      block7_sepconv3_act[0][0]        \n",
            "__________________________________________________________________________________________________\n",
            "block7_sepconv3_bn (BatchNormal (None, 19, 19, 728)  2912        block7_sepconv3[0][0]            \n",
            "__________________________________________________________________________________________________\n",
            "add_6 (Add)                     (None, 19, 19, 728)  0           block7_sepconv3_bn[0][0]         \n",
            "                                                                 add_5[0][0]                      \n",
            "__________________________________________________________________________________________________\n",
            "block8_sepconv1_act (Activation (None, 19, 19, 728)  0           add_6[0][0]                      \n",
            "__________________________________________________________________________________________________\n",
            "block8_sepconv1 (SeparableConv2 (None, 19, 19, 728)  536536      block8_sepconv1_act[0][0]        \n",
            "__________________________________________________________________________________________________\n",
            "block8_sepconv1_bn (BatchNormal (None, 19, 19, 728)  2912        block8_sepconv1[0][0]            \n",
            "__________________________________________________________________________________________________\n",
            "block8_sepconv2_act (Activation (None, 19, 19, 728)  0           block8_sepconv1_bn[0][0]         \n",
            "__________________________________________________________________________________________________\n",
            "block8_sepconv2 (SeparableConv2 (None, 19, 19, 728)  536536      block8_sepconv2_act[0][0]        \n",
            "__________________________________________________________________________________________________\n",
            "block8_sepconv2_bn (BatchNormal (None, 19, 19, 728)  2912        block8_sepconv2[0][0]            \n",
            "__________________________________________________________________________________________________\n",
            "block8_sepconv3_act (Activation (None, 19, 19, 728)  0           block8_sepconv2_bn[0][0]         \n",
            "__________________________________________________________________________________________________\n",
            "block8_sepconv3 (SeparableConv2 (None, 19, 19, 728)  536536      block8_sepconv3_act[0][0]        \n",
            "__________________________________________________________________________________________________\n",
            "block8_sepconv3_bn (BatchNormal (None, 19, 19, 728)  2912        block8_sepconv3[0][0]            \n",
            "__________________________________________________________________________________________________\n",
            "add_7 (Add)                     (None, 19, 19, 728)  0           block8_sepconv3_bn[0][0]         \n",
            "                                                                 add_6[0][0]                      \n",
            "__________________________________________________________________________________________________\n",
            "block9_sepconv1_act (Activation (None, 19, 19, 728)  0           add_7[0][0]                      \n",
            "__________________________________________________________________________________________________\n",
            "block9_sepconv1 (SeparableConv2 (None, 19, 19, 728)  536536      block9_sepconv1_act[0][0]        \n",
            "__________________________________________________________________________________________________\n",
            "block9_sepconv1_bn (BatchNormal (None, 19, 19, 728)  2912        block9_sepconv1[0][0]            \n",
            "__________________________________________________________________________________________________\n",
            "block9_sepconv2_act (Activation (None, 19, 19, 728)  0           block9_sepconv1_bn[0][0]         \n",
            "__________________________________________________________________________________________________\n",
            "block9_sepconv2 (SeparableConv2 (None, 19, 19, 728)  536536      block9_sepconv2_act[0][0]        \n",
            "__________________________________________________________________________________________________\n",
            "block9_sepconv2_bn (BatchNormal (None, 19, 19, 728)  2912        block9_sepconv2[0][0]            \n",
            "__________________________________________________________________________________________________\n",
            "block9_sepconv3_act (Activation (None, 19, 19, 728)  0           block9_sepconv2_bn[0][0]         \n",
            "__________________________________________________________________________________________________\n",
            "block9_sepconv3 (SeparableConv2 (None, 19, 19, 728)  536536      block9_sepconv3_act[0][0]        \n",
            "__________________________________________________________________________________________________\n",
            "block9_sepconv3_bn (BatchNormal (None, 19, 19, 728)  2912        block9_sepconv3[0][0]            \n",
            "__________________________________________________________________________________________________\n",
            "add_8 (Add)                     (None, 19, 19, 728)  0           block9_sepconv3_bn[0][0]         \n",
            "                                                                 add_7[0][0]                      \n",
            "__________________________________________________________________________________________________\n",
            "block10_sepconv1_act (Activatio (None, 19, 19, 728)  0           add_8[0][0]                      \n",
            "__________________________________________________________________________________________________\n",
            "block10_sepconv1 (SeparableConv (None, 19, 19, 728)  536536      block10_sepconv1_act[0][0]       \n",
            "__________________________________________________________________________________________________\n",
            "block10_sepconv1_bn (BatchNorma (None, 19, 19, 728)  2912        block10_sepconv1[0][0]           \n",
            "__________________________________________________________________________________________________\n",
            "block10_sepconv2_act (Activatio (None, 19, 19, 728)  0           block10_sepconv1_bn[0][0]        \n",
            "__________________________________________________________________________________________________\n",
            "block10_sepconv2 (SeparableConv (None, 19, 19, 728)  536536      block10_sepconv2_act[0][0]       \n",
            "__________________________________________________________________________________________________\n",
            "block10_sepconv2_bn (BatchNorma (None, 19, 19, 728)  2912        block10_sepconv2[0][0]           \n",
            "__________________________________________________________________________________________________\n",
            "block10_sepconv3_act (Activatio (None, 19, 19, 728)  0           block10_sepconv2_bn[0][0]        \n",
            "__________________________________________________________________________________________________\n",
            "block10_sepconv3 (SeparableConv (None, 19, 19, 728)  536536      block10_sepconv3_act[0][0]       \n",
            "__________________________________________________________________________________________________\n",
            "block10_sepconv3_bn (BatchNorma (None, 19, 19, 728)  2912        block10_sepconv3[0][0]           \n",
            "__________________________________________________________________________________________________\n",
            "add_9 (Add)                     (None, 19, 19, 728)  0           block10_sepconv3_bn[0][0]        \n",
            "                                                                 add_8[0][0]                      \n",
            "__________________________________________________________________________________________________\n",
            "block11_sepconv1_act (Activatio (None, 19, 19, 728)  0           add_9[0][0]                      \n",
            "__________________________________________________________________________________________________\n",
            "block11_sepconv1 (SeparableConv (None, 19, 19, 728)  536536      block11_sepconv1_act[0][0]       \n",
            "__________________________________________________________________________________________________\n",
            "block11_sepconv1_bn (BatchNorma (None, 19, 19, 728)  2912        block11_sepconv1[0][0]           \n",
            "__________________________________________________________________________________________________\n",
            "block11_sepconv2_act (Activatio (None, 19, 19, 728)  0           block11_sepconv1_bn[0][0]        \n",
            "__________________________________________________________________________________________________\n",
            "block11_sepconv2 (SeparableConv (None, 19, 19, 728)  536536      block11_sepconv2_act[0][0]       \n",
            "__________________________________________________________________________________________________\n",
            "block11_sepconv2_bn (BatchNorma (None, 19, 19, 728)  2912        block11_sepconv2[0][0]           \n",
            "__________________________________________________________________________________________________\n",
            "block11_sepconv3_act (Activatio (None, 19, 19, 728)  0           block11_sepconv2_bn[0][0]        \n",
            "__________________________________________________________________________________________________\n",
            "block11_sepconv3 (SeparableConv (None, 19, 19, 728)  536536      block11_sepconv3_act[0][0]       \n",
            "__________________________________________________________________________________________________\n",
            "block11_sepconv3_bn (BatchNorma (None, 19, 19, 728)  2912        block11_sepconv3[0][0]           \n",
            "__________________________________________________________________________________________________\n",
            "add_10 (Add)                    (None, 19, 19, 728)  0           block11_sepconv3_bn[0][0]        \n",
            "                                                                 add_9[0][0]                      \n",
            "__________________________________________________________________________________________________\n",
            "block12_sepconv1_act (Activatio (None, 19, 19, 728)  0           add_10[0][0]                     \n",
            "__________________________________________________________________________________________________\n",
            "block12_sepconv1 (SeparableConv (None, 19, 19, 728)  536536      block12_sepconv1_act[0][0]       \n",
            "__________________________________________________________________________________________________\n",
            "block12_sepconv1_bn (BatchNorma (None, 19, 19, 728)  2912        block12_sepconv1[0][0]           \n",
            "__________________________________________________________________________________________________\n",
            "block12_sepconv2_act (Activatio (None, 19, 19, 728)  0           block12_sepconv1_bn[0][0]        \n",
            "__________________________________________________________________________________________________\n",
            "block12_sepconv2 (SeparableConv (None, 19, 19, 728)  536536      block12_sepconv2_act[0][0]       \n",
            "__________________________________________________________________________________________________\n",
            "block12_sepconv2_bn (BatchNorma (None, 19, 19, 728)  2912        block12_sepconv2[0][0]           \n",
            "__________________________________________________________________________________________________\n",
            "block12_sepconv3_act (Activatio (None, 19, 19, 728)  0           block12_sepconv2_bn[0][0]        \n",
            "__________________________________________________________________________________________________\n",
            "block12_sepconv3 (SeparableConv (None, 19, 19, 728)  536536      block12_sepconv3_act[0][0]       \n",
            "__________________________________________________________________________________________________\n",
            "block12_sepconv3_bn (BatchNorma (None, 19, 19, 728)  2912        block12_sepconv3[0][0]           \n",
            "__________________________________________________________________________________________________\n",
            "add_11 (Add)                    (None, 19, 19, 728)  0           block12_sepconv3_bn[0][0]        \n",
            "                                                                 add_10[0][0]                     \n",
            "__________________________________________________________________________________________________\n",
            "block13_sepconv1_act (Activatio (None, 19, 19, 728)  0           add_11[0][0]                     \n",
            "__________________________________________________________________________________________________\n",
            "block13_sepconv1 (SeparableConv (None, 19, 19, 728)  536536      block13_sepconv1_act[0][0]       \n",
            "__________________________________________________________________________________________________\n",
            "block13_sepconv1_bn (BatchNorma (None, 19, 19, 728)  2912        block13_sepconv1[0][0]           \n",
            "__________________________________________________________________________________________________\n",
            "block13_sepconv2_act (Activatio (None, 19, 19, 728)  0           block13_sepconv1_bn[0][0]        \n",
            "__________________________________________________________________________________________________\n",
            "block13_sepconv2 (SeparableConv (None, 19, 19, 1024) 752024      block13_sepconv2_act[0][0]       \n",
            "__________________________________________________________________________________________________\n",
            "block13_sepconv2_bn (BatchNorma (None, 19, 19, 1024) 4096        block13_sepconv2[0][0]           \n",
            "__________________________________________________________________________________________________\n",
            "conv2d_4 (Conv2D)               (None, 10, 10, 1024) 745472      add_11[0][0]                     \n",
            "__________________________________________________________________________________________________\n",
            "block13_pool (MaxPooling2D)     (None, 10, 10, 1024) 0           block13_sepconv2_bn[0][0]        \n",
            "__________________________________________________________________________________________________\n",
            "batch_normalization_4 (BatchNor (None, 10, 10, 1024) 4096        conv2d_4[0][0]                   \n",
            "__________________________________________________________________________________________________\n",
            "add_12 (Add)                    (None, 10, 10, 1024) 0           block13_pool[0][0]               \n",
            "                                                                 batch_normalization_4[0][0]      \n",
            "__________________________________________________________________________________________________\n",
            "block14_sepconv1 (SeparableConv (None, 10, 10, 1536) 1582080     add_12[0][0]                     \n",
            "__________________________________________________________________________________________________\n",
            "block14_sepconv1_bn (BatchNorma (None, 10, 10, 1536) 6144        block14_sepconv1[0][0]           \n",
            "__________________________________________________________________________________________________\n",
            "block14_sepconv1_act (Activatio (None, 10, 10, 1536) 0           block14_sepconv1_bn[0][0]        \n",
            "__________________________________________________________________________________________________\n",
            "block14_sepconv2 (SeparableConv (None, 10, 10, 2048) 3159552     block14_sepconv1_act[0][0]       \n",
            "__________________________________________________________________________________________________\n",
            "block14_sepconv2_bn (BatchNorma (None, 10, 10, 2048) 8192        block14_sepconv2[0][0]           \n",
            "__________________________________________________________________________________________________\n",
            "block14_sepconv2_act (Activatio (None, 10, 10, 2048) 0           block14_sepconv2_bn[0][0]        \n",
            "__________________________________________________________________________________________________\n",
            "avg_pool (GlobalAveragePooling2 (None, 2048)         0           block14_sepconv2_act[0][0]       \n",
            "__________________________________________________________________________________________________\n",
            "predictions (Dense)             (None, 1000)         2049000     avg_pool[0][0]                   \n",
            "==================================================================================================\n",
            "Total params: 22,910,480\n",
            "Trainable params: 2,049,000\n",
            "Non-trainable params: 20,861,480\n",
            "__________________________________________________________________________________________________\n"
          ],
          "name": "stdout"
        }
      ]
    },
    {
      "cell_type": "markdown",
      "metadata": {
        "id": "NMe12PFaxhHP",
        "colab_type": "text"
      },
      "source": [
        "# Retrain Last Layers"
      ]
    },
    {
      "cell_type": "code",
      "metadata": {
        "id": "oskPzF6HI-fI",
        "colab_type": "code",
        "colab": {}
      },
      "source": [
        "model = xcept_pre #@param [\"xcept_pre\", \"incept_pre\", \"vgg16_pre\"] {type:\"raw\"}\n",
        "traindir = 'train1000' #@param [\"train100\", \"train1000\", \"train10000\"]\n",
        "\n",
        "img_height = 299 #@param {type:\"integer\"}\n",
        "img_width = 299 #@param {type:\"integer\"}\n",
        "\n",
        "batch_size = 50 #@param {type:\"integer\"}\n",
        "nb_epochs = 20 #@param {type:\"integer\"}"
      ],
      "execution_count": 0,
      "outputs": []
    },
    {
      "cell_type": "code",
      "metadata": {
        "id": "xIwuebyi6XX4",
        "colab_type": "code",
        "colab": {}
      },
      "source": [
        "!mkdir results"
      ],
      "execution_count": 0,
      "outputs": []
    },
    {
      "cell_type": "code",
      "metadata": {
        "id": "eklLNzsCrtDV",
        "colab_type": "code",
        "outputId": "533d0af1-2e89-4470-9919-52d4274be16e",
        "colab": {
          "base_uri": "https://localhost:8080/",
          "height": 306
        },
        "cellView": "code"
      },
      "source": [
        "# retrain last 2 layers model\n",
        "\n",
        "train_datagen = ImageDataGenerator(rescale=1./255,\n",
        "    shear_range=0.2,\n",
        "    zoom_range=0.2,\n",
        "    horizontal_flip=True,\n",
        "    validation_split=0.15) # set validation split\n",
        "\n",
        "train_generator = train_datagen.flow_from_directory(\n",
        "    traindir,\n",
        "    target_size=(img_height, img_width),\n",
        "    batch_size=batch_size,\n",
        "    class_mode='binary',\n",
        "    subset='training') # set as training data\n",
        "\n",
        "validation_generator = train_datagen.flow_from_directory(\n",
        "    traindir, # same directory as training data\n",
        "    target_size=(img_height, img_width),\n",
        "    batch_size=batch_size,\n",
        "    class_mode='binary',\n",
        "    subset='validation') # set as validation data\n",
        "\n",
        "test_datagen = ImageDataGenerator(rescale=1./255)\n",
        "\n",
        "test_generator = test_datagen.flow_from_directory(\n",
        "    'test', \n",
        "    target_size=(img_height, img_width), \n",
        "    batch_size=batch_size, \n",
        "    class_mode='binary')\n",
        "\n",
        "# Fix for Corrupt Images\n",
        "def my_gen(gen):\n",
        "    while True:\n",
        "        try:\n",
        "            data, labels = next(gen)\n",
        "            yield data, labels\n",
        "        except:\n",
        "            pass\n",
        "\n",
        "# Learning rate is changed to 0.001\n",
        "sgd = SGD(lr=1e-3, decay=1e-6, momentum=0.9, nesterov=True)\n",
        "model.compile(optimizer=sgd, loss='sparse_categorical_crossentropy', metrics=['acc'])\n",
        "\n",
        "# Save accuracy to history\n",
        "filepath = 'models/' + model.name + '_' + traindir + \".h5\"\n",
        "\n",
        "cblist = [\n",
        "    History(),\n",
        "    ModelCheckpoint(filepath, monitor='val_acc', verbose=1, save_best_only=True)\n",
        "]\n",
        "\n",
        "history = model.fit_generator(\n",
        "    my_gen(train_generator),\n",
        "    steps_per_epoch = train_generator.samples // batch_size,\n",
        "    validation_data = my_gen(validation_generator), \n",
        "    validation_steps = validation_generator.samples // batch_size,\n",
        "    epochs = nb_epochs,\n",
        "    callbacks=cblist)\n",
        "\n",
        "# pred = model.predict_generator(test_generator, test_generator.samples // batch_size, verbose=1)\n",
        "meval = model.evaluate_generator(test_generator, verbose=1)\n",
        "mev = 'test loss: %.5f - test acc: %.2f%%' % (meval[0], meval[1]*100)\n",
        "print(mev)\n",
        "%store meval > models/\"$model.name\"_\"$traindir\"_eval.txt\n",
        "%store mev >> results/\"$model.name\"_\"$traindir\"_ev.txt"
      ],
      "execution_count": 0,
      "outputs": [
        {
          "output_type": "stream",
          "text": [
            "Found 1615 images belonging to 10 classes.\n",
            "Found 285 images belonging to 10 classes.\n",
            "Found 1000 images belonging to 10 classes.\n",
            "Epoch 1/20\n",
            "32/32 [==============================] - 57s 2s/step - loss: 0.5774 - acc: 0.8444 - val_loss: 0.6475 - val_acc: 0.8120\n",
            "\n",
            "Epoch 00001: val_acc improved from -inf to 0.81200, saving model to models/xcept_train1000.h5\n",
            "Epoch 2/20\n",
            "32/32 [==============================] - 44s 1s/step - loss: 0.5692 - acc: 0.8396 - val_loss: 0.5456 - val_acc: 0.8000\n",
            "\n",
            "Epoch 00002: val_acc did not improve from 0.81200\n",
            "Epoch 3/20\n",
            "32/32 [==============================] - 46s 1s/step - loss: 0.5780 - acc: 0.8396 - val_loss: 0.9723 - val_acc: 0.8000\n",
            "\n",
            "Epoch 00003: val_acc did not improve from 0.81200\n",
            "Epoch 4/20\n",
            "24/32 [=====================>........] - ETA: 10s - loss: 0.5439 - acc: 0.8464"
          ],
          "name": "stdout"
        }
      ]
    },
    {
      "cell_type": "code",
      "metadata": {
        "id": "w0rNBeOH47dx",
        "colab_type": "code",
        "outputId": "e76ea79c-b3ef-4680-e672-3abb54e48c28",
        "colab": {
          "base_uri": "https://localhost:8080/",
          "height": 607
        }
      },
      "source": [
        "# summarize history for accuracy\n",
        "plt.plot(history.history['acc'])\n",
        "plt.plot(history.history['val_acc'])\n",
        "plt.title('Model Accuracy')  \n",
        "plt.ylabel('Accuracy')\n",
        "plt.xlabel('Epoch')\n",
        "plt.xticks(range(0, nb_epochs))\n",
        "plt.legend(['Training', 'Validation'], loc='lower right')\n",
        "plt.savefig('results/' + model.name + \"_\" + traindir + '_acc.png')\n",
        "plt.show()\n",
        "\n",
        "# summarize history for loss\n",
        "plt.plot(history.history['loss'])\n",
        "plt.plot(history.history['val_loss'])\n",
        "plt.title('Model Loss')\n",
        "plt.ylabel('Loss')\n",
        "plt.xlabel('Epoch')\n",
        "plt.xticks(range(0, nb_epochs))\n",
        "plt.legend(['Training', 'Validation'], loc='upper right')\n",
        "plt.savefig('results/' + model.name + \"_\" + traindir + '_loss.png')\n",
        "plt.show()\n",
        "\n",
        "# build history dataframe and save\n",
        "hist_df = pd.DataFrame(history.history)\n",
        "%store history.history > results/\"$model.name\"_\"$traindir\"_history.txt\n",
        "%store hist_df > results/\"$model.name\"_\"$traindir\"_histdf.txt"
      ],
      "execution_count": 49,
      "outputs": [
        {
          "output_type": "display_data",
          "data": {
            "image/png": "[encoded data removed]",
            "text/plain": [
              "<Figure size 432x288 with 1 Axes>"
            ]
          },
          "metadata": {
            "tags": [],
            "needs_background": "light"
          }
        },
        {
          "output_type": "display_data",
          "data": {
            "image/png": "[encoded data removed]",
            "text/plain": [
              "<Figure size 432x288 with 1 Axes>"
            ]
          },
          "metadata": {
            "tags": [],
            "needs_background": "light"
          }
        },
        {
          "output_type": "stream",
          "text": [
            "Writing 'history.history' (dict) to file 'results/xcept_train1000_history.txt'.\n",
            "Writing 'hist_df' (DataFrame) to file 'results/xcept_train1000_histdf.txt'.\n"
          ],
          "name": "stdout"
        }
      ]
    },
    {
      "cell_type": "code",
      "metadata": {
        "id": "eph_fa6-YHda",
        "colab_type": "code",
        "colab": {
          "base_uri": "https://localhost:8080/",
          "height": 669
        },
        "outputId": "87c0d692-a79b-43fa-b20d-f9ec41e48d60"
      },
      "source": [
        "hist_df"
      ],
      "execution_count": 50,
      "outputs": [
        {
          "output_type": "execute_result",
          "data": {
            "text/html": [
              "<div>\n",
              "<style scoped>\n",
              "    .dataframe tbody tr th:only-of-type {\n",
              "        vertical-align: middle;\n",
              "    }\n",
              "\n",
              "    .dataframe tbody tr th {\n",
              "        vertical-align: top;\n",
              "    }\n",
              "\n",
              "    .dataframe thead th {\n",
              "        text-align: right;\n",
              "    }\n",
              "</style>\n",
              "<table border=\"1\" class=\"dataframe\">\n",
              "  <thead>\n",
              "    <tr style=\"text-align: right;\">\n",
              "      <th></th>\n",
              "      <th>val_loss</th>\n",
              "      <th>val_acc</th>\n",
              "      <th>loss</th>\n",
              "      <th>acc</th>\n",
              "    </tr>\n",
              "  </thead>\n",
              "  <tbody>\n",
              "    <tr>\n",
              "      <th>0</th>\n",
              "      <td>1.028452</td>\n",
              "      <td>0.696000</td>\n",
              "      <td>0.867882</td>\n",
              "      <td>0.758750</td>\n",
              "    </tr>\n",
              "    <tr>\n",
              "      <th>1</th>\n",
              "      <td>0.775751</td>\n",
              "      <td>0.723404</td>\n",
              "      <td>0.830012</td>\n",
              "      <td>0.771885</td>\n",
              "    </tr>\n",
              "    <tr>\n",
              "      <th>2</th>\n",
              "      <td>0.979312</td>\n",
              "      <td>0.714894</td>\n",
              "      <td>0.812103</td>\n",
              "      <td>0.771885</td>\n",
              "    </tr>\n",
              "    <tr>\n",
              "      <th>3</th>\n",
              "      <td>1.095383</td>\n",
              "      <td>0.740426</td>\n",
              "      <td>0.767560</td>\n",
              "      <td>0.789776</td>\n",
              "    </tr>\n",
              "    <tr>\n",
              "      <th>4</th>\n",
              "      <td>1.219381</td>\n",
              "      <td>0.727660</td>\n",
              "      <td>0.754351</td>\n",
              "      <td>0.790415</td>\n",
              "    </tr>\n",
              "    <tr>\n",
              "      <th>5</th>\n",
              "      <td>0.861713</td>\n",
              "      <td>0.761702</td>\n",
              "      <td>0.750461</td>\n",
              "      <td>0.785304</td>\n",
              "    </tr>\n",
              "    <tr>\n",
              "      <th>6</th>\n",
              "      <td>1.081401</td>\n",
              "      <td>0.748000</td>\n",
              "      <td>0.717495</td>\n",
              "      <td>0.800000</td>\n",
              "    </tr>\n",
              "    <tr>\n",
              "      <th>7</th>\n",
              "      <td>0.761133</td>\n",
              "      <td>0.736170</td>\n",
              "      <td>0.716476</td>\n",
              "      <td>0.800000</td>\n",
              "    </tr>\n",
              "    <tr>\n",
              "      <th>8</th>\n",
              "      <td>0.900374</td>\n",
              "      <td>0.761702</td>\n",
              "      <td>0.700191</td>\n",
              "      <td>0.807668</td>\n",
              "    </tr>\n",
              "    <tr>\n",
              "      <th>9</th>\n",
              "      <td>0.800787</td>\n",
              "      <td>0.770213</td>\n",
              "      <td>0.679820</td>\n",
              "      <td>0.808307</td>\n",
              "    </tr>\n",
              "    <tr>\n",
              "      <th>10</th>\n",
              "      <td>0.639460</td>\n",
              "      <td>0.744681</td>\n",
              "      <td>0.696817</td>\n",
              "      <td>0.802556</td>\n",
              "    </tr>\n",
              "    <tr>\n",
              "      <th>11</th>\n",
              "      <td>0.890369</td>\n",
              "      <td>0.748936</td>\n",
              "      <td>0.635228</td>\n",
              "      <td>0.823642</td>\n",
              "    </tr>\n",
              "    <tr>\n",
              "      <th>12</th>\n",
              "      <td>0.986991</td>\n",
              "      <td>0.776000</td>\n",
              "      <td>0.642214</td>\n",
              "      <td>0.818530</td>\n",
              "    </tr>\n",
              "    <tr>\n",
              "      <th>13</th>\n",
              "      <td>0.738870</td>\n",
              "      <td>0.795745</td>\n",
              "      <td>0.637603</td>\n",
              "      <td>0.815335</td>\n",
              "    </tr>\n",
              "    <tr>\n",
              "      <th>14</th>\n",
              "      <td>0.705937</td>\n",
              "      <td>0.727660</td>\n",
              "      <td>0.607572</td>\n",
              "      <td>0.831949</td>\n",
              "    </tr>\n",
              "    <tr>\n",
              "      <th>15</th>\n",
              "      <td>0.977989</td>\n",
              "      <td>0.800000</td>\n",
              "      <td>0.619478</td>\n",
              "      <td>0.825559</td>\n",
              "    </tr>\n",
              "    <tr>\n",
              "      <th>16</th>\n",
              "      <td>0.722502</td>\n",
              "      <td>0.787234</td>\n",
              "      <td>0.610706</td>\n",
              "      <td>0.826198</td>\n",
              "    </tr>\n",
              "    <tr>\n",
              "      <th>17</th>\n",
              "      <td>0.427830</td>\n",
              "      <td>0.774468</td>\n",
              "      <td>0.608503</td>\n",
              "      <td>0.832588</td>\n",
              "    </tr>\n",
              "    <tr>\n",
              "      <th>18</th>\n",
              "      <td>0.748527</td>\n",
              "      <td>0.784000</td>\n",
              "      <td>0.584170</td>\n",
              "      <td>0.830671</td>\n",
              "    </tr>\n",
              "    <tr>\n",
              "      <th>19</th>\n",
              "      <td>0.630391</td>\n",
              "      <td>0.800000</td>\n",
              "      <td>0.587322</td>\n",
              "      <td>0.829393</td>\n",
              "    </tr>\n",
              "  </tbody>\n",
              "</table>\n",
              "</div>"
            ],
            "text/plain": [
              "    val_loss   val_acc      loss       acc\n",
              "0   1.028452  0.696000  0.867882  0.758750\n",
              "1   0.775751  0.723404  0.830012  0.771885\n",
              "2   0.979312  0.714894  0.812103  0.771885\n",
              "3   1.095383  0.740426  0.767560  0.789776\n",
              "4   1.219381  0.727660  0.754351  0.790415\n",
              "5   0.861713  0.761702  0.750461  0.785304\n",
              "6   1.081401  0.748000  0.717495  0.800000\n",
              "7   0.761133  0.736170  0.716476  0.800000\n",
              "8   0.900374  0.761702  0.700191  0.807668\n",
              "9   0.800787  0.770213  0.679820  0.808307\n",
              "10  0.639460  0.744681  0.696817  0.802556\n",
              "11  0.890369  0.748936  0.635228  0.823642\n",
              "12  0.986991  0.776000  0.642214  0.818530\n",
              "13  0.738870  0.795745  0.637603  0.815335\n",
              "14  0.705937  0.727660  0.607572  0.831949\n",
              "15  0.977989  0.800000  0.619478  0.825559\n",
              "16  0.722502  0.787234  0.610706  0.826198\n",
              "17  0.427830  0.774468  0.608503  0.832588\n",
              "18  0.748527  0.784000  0.584170  0.830671\n",
              "19  0.630391  0.800000  0.587322  0.829393"
            ]
          },
          "metadata": {
            "tags": []
          },
          "execution_count": 50
        }
      ]
    },
    {
      "cell_type": "markdown",
      "metadata": {
        "id": "2LFDFyQqUW3I",
        "colab_type": "text"
      },
      "source": [
        "# The following code is for individual image and model tests"
      ]
    },
    {
      "cell_type": "code",
      "metadata": {
        "id": "_F7pj2zCEC_N",
        "colab_type": "code",
        "colab": {}
      },
      "source": [
        "# Get Test Images\n",
        "!wget -nc -q -P example_images/ https://upload.wikimedia.org/wikipedia/commons/f/f9/Zoorashia_elephant.jpg\n",
        "!wget -nc -q http://farm1.static.flickr.com/145/430300483_21e993670c.jpg -O example_images/eagle.jpg"
      ],
      "execution_count": 0,
      "outputs": []
    },
    {
      "cell_type": "code",
      "metadata": {
        "id": "CFafrbq9Dnjs",
        "colab_type": "code",
        "colab": {}
      },
      "source": [
        "# Test Images Individually\n",
        "\n",
        "# load an image from file\n",
        "image = load_img('example_images/eagle.jpg', target_size=(224, 224))\n",
        "image = img_to_array(image)\n",
        "\n",
        "# reshape data for the model\n",
        "image = image.reshape((1, image.shape[0], image.shape[1], image.shape[2]))\n",
        "\n",
        "# prepare the image for the VGG model\n",
        "image = preprocess_input(image)\n",
        "features = vgg16_pre.predict(image)\n",
        "\n",
        "# Print Predictions\n",
        "print('Predictions:')\n",
        "preds = decode_predictions(features, top=5)[0]\n",
        "for p in preds:\n",
        "  print('%s: %s (%.2f%%)' % (p[0], p[1], p[2]*100))"
      ],
      "execution_count": 0,
      "outputs": []
    },
    {
      "cell_type": "code",
      "metadata": {
        "id": "Tvx4sHdZGxt7",
        "colab_type": "code",
        "colab": {}
      },
      "source": [
        "def show_batch(image_batch, label_batch):\n",
        "  plt.figure(figsize=(10,10))\n",
        "  for n in range(25):\n",
        "      ax = plt.subplot(5,5,n+1)\n",
        "      plt.imshow(image_batch[n])\n",
        "      plt.title(CLASS_NAMES[label_batch[n]==1][0].title())\n",
        "      plt.axis('off')"
      ],
      "execution_count": 0,
      "outputs": []
    },
    {
      "cell_type": "code",
      "metadata": {
        "id": "KjZQLcsAETop",
        "colab_type": "code",
        "outputId": "55d242ea-5c1f-4d95-c6b5-b2a9b9734d70",
        "colab": {
          "base_uri": "https://localhost:8080/",
          "height": 51
        }
      },
      "source": [
        "import pathlib\n",
        "\n",
        "# data_dir = utils.get_file(origin='https://storage.googleapis.com/download.tensorflow.org/example_images/flower_photos.tgz',fname='flower_photos', untar=True)\n",
        "\n",
        "data_dir = pathlib.Path('ImageNetOther/')\n",
        "\n",
        "image_count = len(list(data_dir.glob('*/*.jpg')))\n",
        "image_count\n",
        "\n",
        "CLASS_NAMES = np.array([item.name for item in data_dir.glob('*') if item.name != \"LICENSE.txt\"])\n",
        "CLASS_NAMES\n",
        "\n",
        "image_generator = ImageDataGenerator(rescale=1./255)\n",
        "\n",
        "BATCH_SIZE = 32\n",
        "IMG_HEIGHT = 224\n",
        "IMG_WIDTH = 224\n",
        "STEPS_PER_EPOCH = np.ceil(image_count/BATCH_SIZE)\n",
        "\n",
        "train_data_gen = image_generator.flow_from_directory(directory=str(data_dir),\n",
        "                                                     batch_size=BATCH_SIZE,\n",
        "                                                     shuffle=True,\n",
        "                                                     target_size=(IMG_HEIGHT, IMG_WIDTH),\n",
        "                                                     classes = list(CLASS_NAMES))\n",
        "\n",
        "test_generator = image_generator.flow_from_directory(directory=str(data_dir),\n",
        "    target_size=(IMG_HEIGHT, IMG_WIDTH),\n",
        "    batch_size=1,\n",
        "    class_mode=None,\n",
        "    shuffle=False,\n",
        "    seed=42\n",
        ")\n",
        "\n",
        "# test_gen = datagen.flow_from_directory('/content/drive/My Drive/CSC7333/test/', target_size=(224,224), class_mode='binary')\n",
        "# test_samples = len(test_gen.filenames)"
      ],
      "execution_count": 0,
      "outputs": [
        {
          "output_type": "stream",
          "text": [
            "Found 100 images belonging to 1 classes.\n",
            "Found 100 images belonging to 1 classes.\n"
          ],
          "name": "stdout"
        }
      ]
    },
    {
      "cell_type": "code",
      "metadata": {
        "id": "Ej9je0T6E0SP",
        "colab_type": "code",
        "colab": {}
      },
      "source": [
        "image_batch, label_batch = next(train_data_gen)\n",
        "show_batch(image_batch, label_batch)"
      ],
      "execution_count": 0,
      "outputs": []
    },
    {
      "cell_type": "code",
      "metadata": {
        "id": "eVWD1QbuIrkq",
        "colab_type": "code",
        "colab": {}
      },
      "source": [
        "print(test_generator.filenames[82])\n",
        "print(test_generator.filenames[83])"
      ],
      "execution_count": 0,
      "outputs": []
    },
    {
      "cell_type": "code",
      "metadata": {
        "id": "nZiYefW-HQqL",
        "colab_type": "code",
        "colab": {}
      },
      "source": [
        "STEP_SIZE_TEST = test_generator.n//test_generator.batch_size\n",
        "\n",
        "test_generator.reset()\n",
        "\n",
        "pred = ovgg16.predict_generator(test_generator, steps=STEP_SIZE_TEST, verbose=1)\n",
        "\n",
        "# predicted_class_indices=np.argmax(pred,axis=1)"
      ],
      "execution_count": 0,
      "outputs": []
    },
    {
      "cell_type": "code",
      "metadata": {
        "id": "CjzGdppoJb8P",
        "colab_type": "code",
        "colab": {}
      },
      "source": [
        "predicted_class_indices=np.argmax(pred,axis=1)\n",
        "print(predicted_class_indices)"
      ],
      "execution_count": 0,
      "outputs": []
    },
    {
      "cell_type": "code",
      "metadata": {
        "id": "cV5KN-tpJyt6",
        "colab_type": "code",
        "colab": {}
      },
      "source": [
        "# Print Predictions\n",
        "print('Predictions:')\n",
        "preds = decode_predictions(pred, top=5)[0]\n",
        "for p in preds:\n",
        "  print('%s: %s (%.2f%%)' % (p[0], p[1], p[2]*100))"
      ],
      "execution_count": 0,
      "outputs": []
    },
    {
      "cell_type": "code",
      "metadata": {
        "id": "16rIRPJh3qEn",
        "colab_type": "code",
        "colab": {}
      },
      "source": [
        "#Image processing\n",
        "\n",
        "# import matplotlib.image as mpimg \n",
        "# import matplotlib.pyplot as plt \n",
        "# import glob\n",
        "\n",
        "# image_list = []\n",
        "\n",
        "# '''\n",
        "# for filename in glob.glob('ImageNet Animals/folderNameHere'):\n",
        "#     im = mpimg.imread(filename) \n",
        "#     image_list.append(im)\n",
        "#     plt.figure()\n",
        "#     plt.imshow(im)\n",
        "# '''\n"
      ],
      "execution_count": 0,
      "outputs": []
    },
    {
      "cell_type": "code",
      "metadata": {
        "id": "9TN9m9CUIfAF",
        "colab_type": "code",
        "colab": {}
      },
      "source": [
        "# ImageFile.LOAD_TRUNCATED_IMAGES = True\n",
        "\n",
        "# create generator\n",
        "# datagen = ImageDataGenerator()\n",
        "\n",
        "# prepare an iterators for each dataset\n",
        "# train_gen_100 = datagen.flow_from_directory('train100/', target_size=(299, 299), class_mode='binary') # classes=['11'])\n",
        "# train_gen_1000 = datagen.flow_from_directory('train1000/', target_size=(224,224), class_mode='binary') # classes=['11'])\n",
        "# train_gen_10000 = datagen.flow_from_directory('train1000/', target_size=(224,224), class_mode='binary') # classes=['11'])\n",
        "# test_gen = datagen.flow_from_directory('test/', target_size=(224,224), class_mode='binary') # classes=['11'])\n",
        "\n",
        "#calculate the length of data\n",
        "# train_samples_100 = len(train_gen_100.filenames)\n",
        "# train_samples_1000 = len(train_gen_1000.filenames)\n",
        "# train_samples_10000 = len(train_gen_10000.filenames)\n",
        "# test_samples = len(test_gen.filenames)\n",
        "\n",
        "# train_img=preprocess_input(train_img)"
      ],
      "execution_count": 0,
      "outputs": []
    },
    {
      "cell_type": "code",
      "metadata": {
        "id": "iKG44APPImfL",
        "colab_type": "code",
        "colab": {}
      },
      "source": [
        "\n",
        "# his = ovgg16_10.fit_generator(my_gen(train_gen), samples_per_epoch=50, epoch=20, validation_split=0.3, callbacks=cblist)\n",
        "# epochs=20\n",
        "# history = History()\n",
        "# history = xcept_pre.fit_generator(my_gen(train_gen_100), samples_per_epoch=100, nb_epoch=epochs, callbacks=[history])"
      ],
      "execution_count": 0,
      "outputs": []
    }
  ]
}