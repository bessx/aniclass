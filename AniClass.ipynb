{
  "nbformat": 4,
  "nbformat_minor": 0,
  "metadata": {
    "kernelspec": {
      "name": "python3",
      "display_name": "Python 3"
    },
    "ssap_exp_config": {
      "error_alert": "Error Occurs!",
      "initial": [],
      "max_iteration": 1000,
      "recv_id": "",
      "running": [],
      "summary": [],
      "version": "1.1.1"
    },
    "colab": {
      "name": "CSC 7333 Image Classification Project.ipynb",
      "provenance": [],
      "collapsed_sections": [],
      "toc_visible": true,
      "include_colab_link": true
    },
    "accelerator": "GPU"
  },
  "cells": [
    {
      "cell_type": "markdown",
      "metadata": {
        "id": "view-in-github",
        "colab_type": "text"
      },
      "source": [
        "<a href=\"https://colab.research.google.com/github/bessx/aniclass/blob/master/AniClass.ipynb\" target=\"_parent\"><img src=\"https://colab.research.google.com/assets/colab-badge.svg\" alt=\"Open In Colab\"/></a>"
      ]
    },
    {
      "cell_type": "markdown",
      "metadata": {
        "id": "gt5_ryTQZJut",
        "colab_type": "text"
      },
      "source": [
        "# Performance Comparison of Convolutional Neural Networks for Animal Classification on Disproportionate Datasets\n",
        "\n",
        "by Adam Bess, Blessing Ajibero, Cheng Yan, Jacques Comeaux, Jesse Dai, Josh Duke, Mahfuza Khatun, Sweta Ghimire\n",
        "\n",
        "Dataset downloader: https://github.com/bessx/aniclass\n",
        "\n",
        "[(•̀ᴗ•́)و ̑̑](http://git.bess.ai/aniclass)"
      ]
    },
    {
      "cell_type": "markdown",
      "metadata": {
        "id": "CL5IzoySxn61",
        "colab_type": "text"
      },
      "source": [
        "# Environment Setup"
      ]
    },
    {
      "cell_type": "code",
      "metadata": {
        "id": "EPDtz0OEwCFq",
        "colab_type": "code",
        "cellView": "form",
        "outputId": "a3ed6ddc-2425-4fd2-a91d-814aa879d372",
        "colab": {
          "base_uri": "https://localhost:8080/",
          "height": 171
        }
      },
      "source": [
        "#@title Download Image Datasets\n",
        "\n",
        "!wget -nc http://csc.lsu.edu/~bess/aniclass/test.tgz\n",
        "!wget -nc http://csc.lsu.edu/~bess/aniclass/teddy.tgz\n",
        "!wget -nc http://csc.lsu.edu/~bess/aniclass/train100.tgz\n",
        "!wget -nc http://csc.lsu.edu/~bess/aniclass/train1000.tgz\n",
        "!wget -nc http://csc.lsu.edu/~bess/aniclass/train10000.tgz"
      ],
      "execution_count": 0,
      "outputs": [
        {
          "output_type": "stream",
          "text": [
            "--2020-04-30 02:20:06--  http://csc.lsu.edu/~bess/aniclass/train1000.tgz\n",
            "Resolving csc.lsu.edu (csc.lsu.edu)... 96.125.115.208\n",
            "Connecting to csc.lsu.edu (csc.lsu.edu)|96.125.115.208|:80... connected.\n",
            "HTTP request sent, awaiting response... 200 OK\n",
            "Length: 323890270 (309M) [application/x-gzip]\n",
            "Saving to: ‘train1000.tgz’\n",
            "\n",
            "train1000.tgz        10%[=>                  ]  32.32M  5.26MB/s    eta 66s    "
          ],
          "name": "stdout"
        }
      ]
    },
    {
      "cell_type": "code",
      "metadata": {
        "id": "y4WnD64ZO8v5",
        "colab_type": "code",
        "cellView": "form",
        "outputId": "1bef3c50-1967-4872-9fb2-c4d65cfd5e72",
        "colab": {
          "base_uri": "https://localhost:8080/",
          "height": 225
        }
      },
      "source": [
        "#@title Unpack Dataset Tars\n",
        "\n",
        "!tar xzkf test.tgz\n",
        "!tar xzkf teddy.tgz\n",
        "!tar xzkf train100.tgz\n",
        "!tar xzkf train1000.tgz\n",
        "!tar xzkf train10000.tgz"
      ],
      "execution_count": 0,
      "outputs": [
        {
          "output_type": "stream",
          "text": [
            "tar (child): teddy.tgz: Cannot open: No such file or directory\n",
            "tar (child): Error is not recoverable: exiting now\n",
            "tar: Child returned status 2\n",
            "tar: Error is not recoverable: exiting now\n",
            "tar (child): train1000.tgz: Cannot open: No such file or directory\n",
            "tar (child): Error is not recoverable: exiting now\n",
            "tar: Child returned status 2\n",
            "tar: Error is not recoverable: exiting now\n",
            "tar (child): train10000.tgz: Cannot open: No such file or directory\n",
            "tar (child): Error is not recoverable: exiting now\n",
            "tar: Child returned status 2\n",
            "tar: Error is not recoverable: exiting now\n"
          ],
          "name": "stdout"
        }
      ]
    },
    {
      "cell_type": "code",
      "metadata": {
        "id": "ZxePr-Sppn4f",
        "colab_type": "code",
        "outputId": "91c273e9-8795-4674-afe1-53a86887cd2b",
        "cellView": "form",
        "colab": {
          "base_uri": "https://localhost:8080/",
          "height": 34
        }
      },
      "source": [
        "#@title Import Commands\n",
        "from keras.applications import xception, vgg16, inception_v3\n",
        "# from keras.applications.resnet import ResNet101,ResNet152,ResNet50\n",
        "# from keras.applications.densenet import DenseNet121,DenseNet169,DenseNet201\n",
        "# from keras.applications.nasnet import NASNetMobile,NASNetLarge\n",
        "\n",
        "#from keras.applications.vgg16 import VGG16\n",
        "from keras.preprocessing import image\n",
        "from keras.preprocessing.image import ImageDataGenerator, load_img, img_to_array\n",
        "from keras.applications.vgg16 import preprocess_input, decode_predictions\n",
        "from keras.applications.inception_v3 import InceptionV3\n",
        "from keras.models import Model, Sequential, clone_model, load_model\n",
        "from keras import layers, utils\n",
        "from keras.layers import Dense, Activation, Flatten, add\n",
        "from keras.layers.pooling import GlobalAveragePooling2D\n",
        "from keras.utils.np_utils import to_categorical\n",
        "from keras.optimizers import SGD\n",
        "from keras.callbacks import History, ModelCheckpoint\n",
        "\n",
        "import pandas as pd\n",
        "import numpy as np\n",
        "import matplotlib.pyplot as plt\n",
        "\n",
        "from PIL import ImageFile\n",
        "ImageFile.LOAD_TRUNCATED_IMAGES = True\n",
        "\n",
        "%matplotlib inline"
      ],
      "execution_count": 2,
      "outputs": [
        {
          "output_type": "stream",
          "text": [
            "Using TensorFlow backend.\n"
          ],
          "name": "stderr"
        }
      ]
    },
    {
      "cell_type": "markdown",
      "metadata": {
        "id": "MCus3K8By8Xk",
        "colab_type": "text"
      },
      "source": [
        "# Models Setup"
      ]
    },
    {
      "cell_type": "code",
      "metadata": {
        "id": "bMX-8HHBqE54",
        "colab_type": "code",
        "outputId": "2c15d473-c773-4ba1-f147-04543b982744",
        "colab": {
          "base_uri": "https://localhost:8080/",
          "height": 51
        }
      },
      "source": [
        "#@title Load Xception and freeze final layers\n",
        "# Import Xception without bottom two layers\n",
        "xcept_base = xception.Xception(include_top=False, weights='imagenet')\n",
        "xcept_base.name = 'xcept_base' \n",
        "\n",
        "# Create two layers with 10 classes in final prediction layer\n",
        "x = xcept_base.output\n",
        "x = GlobalAveragePooling2D()(x)\n",
        "predictions = Dense(10, activation='softmax')(x)\n",
        "\n",
        "# Add the top layer block to the base model\n",
        "xcept_train = Model(xcept_base.input, predictions)\n",
        "xcept_train.name = 'xcept'\n",
        "\n",
        "# Freeze all but final two layers of xcept model\n",
        "for ind, layer in enumerate(xcept_train.layers):\n",
        "  if ind >= (len(xcept_train.layers)-2):\n",
        "    layer.trainable = True\n",
        "    # print(ind, layer, \"if\")\n",
        "  else: \n",
        "    layer.trainable = False\n",
        "    # print(ind, layer, \"else\")"
      ],
      "execution_count": 22,
      "outputs": [
        {
          "output_type": "stream",
          "text": [
            "Downloading data from https://github.com/fchollet/deep-learning-models/releases/download/v0.4/xception_weights_tf_dim_ordering_tf_kernels_notop.h5\n",
            "83689472/83683744 [==============================] - 3s 0us/step\n"
          ],
          "name": "stdout"
        }
      ]
    },
    {
      "cell_type": "code",
      "metadata": {
        "id": "z5YzIQSHxxsx",
        "colab_type": "code",
        "colab": {
          "base_uri": "https://localhost:8080/",
          "height": 51
        },
        "outputId": "014ef185-07c2-4b8a-907c-7edd267e1a21"
      },
      "source": [
        "#@title Load Inception and freeze final layers\n",
        "\n",
        "# Import Inception without bottom two layers\n",
        "incept_base = inception_v3.InceptionV3(include_top=False, weights='imagenet')\n",
        "incept_base.name = 'incept_base' \n",
        "\n",
        "# Create two layers with 10 classes in final prediction layer\n",
        "y = incept_base.output\n",
        "y = GlobalAveragePooling2D()(y)\n",
        "predictions = Dense(10, activation='softmax')(y)\n",
        "\n",
        "# Add the top layer block to the base model\n",
        "incept_train = Model(incept_base.input, predictions)\n",
        "incept_train.name = 'incept'\n",
        "\n",
        "#@title Freeze all but final two layers of incept model\n",
        "for ind, layer in enumerate(incept_train.layers):\n",
        "  if ind >= (len(incept_train.layers)-2):\n",
        "    layer.trainable = True\n",
        "    # print(ind, layer, \"if\")\n",
        "  else: \n",
        "    layer.trainable = False\n",
        "    # print(ind, layer, \"else\")"
      ],
      "execution_count": 23,
      "outputs": [
        {
          "output_type": "stream",
          "text": [
            "Downloading data from https://github.com/fchollet/deep-learning-models/releases/download/v0.5/inception_v3_weights_tf_dim_ordering_tf_kernels_notop.h5\n",
            "87916544/87910968 [==============================] - 2s 0us/step\n"
          ],
          "name": "stdout"
        }
      ]
    },
    {
      "cell_type": "code",
      "metadata": {
        "id": "miIxpooG0BZu",
        "colab_type": "code",
        "colab": {}
      },
      "source": [
        "#@title Load VGG16 and freeze final layers\n",
        "vgg16_base = vgg16.VGG16(include_top=True, weights='imagenet')\n",
        "vgg16_base.name = 'vgg16_pre'\n",
        "\n",
        "vgg16_input  = vgg16_base.get_layer(index=0).input\n",
        "vgg16_output = vgg16_base.get_layer(index=-2).output\n",
        "vgg16_model = Model(inputs=vgg16_input, outputs=vgg16_output)\n",
        "vgg16_model.name = 'vgg16_base'\n",
        "\n",
        "vgg16_train = Sequential()\n",
        "vgg16_train.add(vgg16_model)\n",
        "vgg16_train.add(Dense(10, activation='softmax', input_dim=4096, name='predictions'))\n",
        "vgg16_train.name = 'vgg16'\n",
        "\n",
        "# Freeze all but final two layers of VGG16 model\n",
        "for ind, layer in enumerate(vgg16_train.layers):\n",
        "  if ind >= (len(vgg16_train.layers)-1):\n",
        "    layer.trainable = True\n",
        "    # print(ind, layer, \"if\")\n",
        "  else: \n",
        "    layer.trainable = False\n",
        "    # print(ind, layer, \"else\")"
      ],
      "execution_count": 0,
      "outputs": []
    },
    {
      "cell_type": "code",
      "metadata": {
        "id": "3QeGrSuwtJWy",
        "colab_type": "code",
        "colab": {}
      },
      "source": [
        "# Save Models to List\n",
        "model_list = [xcept_train, vgg16_train, incept_train]\n",
        "\n",
        "# Make Models Folder\n",
        "!mkdir models\n",
        "\n",
        "# Make Results Folder\n",
        "!mkdir results\n",
        "\n",
        "# Save Models to Folder\n",
        "for mdl in model_list:\n",
        "  mdl.save('models/' + mdl.name + '_train.h5')\n",
        "  print('Saved ' + mdl.name + '_train to disk')"
      ],
      "execution_count": 0,
      "outputs": []
    },
    {
      "cell_type": "markdown",
      "metadata": {
        "id": "NMe12PFaxhHP",
        "colab_type": "text"
      },
      "source": [
        "# Retrain Last Layers"
      ]
    },
    {
      "cell_type": "code",
      "metadata": {
        "id": "oskPzF6HI-fI",
        "colab_type": "code",
        "cellView": "form",
        "colab": {}
      },
      "source": [
        "#@title Set Variables for Training: { run: \"auto\" }\n",
        "\n",
        "trainmodel = incept_train #@param [\"xcept_train\", \"incept_train\", \"vgg16_train\"] {type:\"raw\"}\n",
        "traindir = 'train100' #@param [\"train100\", \"train1000\", \"train10000\"]\n",
        "\n",
        "img_height = 299 #@param {type:\"integer\"}\n",
        "img_width = 299 #@param {type:\"integer\"}\n",
        "\n",
        "batch_size = 50 #@param {type:\"integer\"}\n",
        "nb_epochs = 20 #@param {type:\"integer\"}\n",
        "\n",
        "\n",
        "# Set Save Name\n",
        "sname = trainmodel.name + '_' + traindir"
      ],
      "execution_count": 0,
      "outputs": []
    },
    {
      "cell_type": "code",
      "metadata": {
        "id": "qDzo-0f3kdxB",
        "colab_type": "code",
        "cellView": "both",
        "outputId": "f8ec09a7-3247-4953-d6ce-544be32329a9",
        "colab": {
          "base_uri": "https://localhost:8080/",
          "height": 1000
        }
      },
      "source": [
        "#@title Retrain final 2 layers of model { vertical-output: true }\n",
        "\n",
        "print('Loading model ' + trainmodel.name + '...')\n",
        "model = load_model('models/' + trainmodel.name + '_train.h5')\n",
        "\n",
        "train_datagen = ImageDataGenerator(rescale=1./255,\n",
        "    # shear_range=0.2,\n",
        "    # zoom_range=0.2,\n",
        "    # horizontal_flip=True,\n",
        "    validation_split=0.15) # set validation split\n",
        "\n",
        "train_generator = train_datagen.flow_from_directory(\n",
        "    traindir,\n",
        "    target_size=(img_height, img_width),\n",
        "    batch_size=batch_size,\n",
        "    class_mode='binary',\n",
        "    subset='training') # set as training data\n",
        "\n",
        "validation_generator = train_datagen.flow_from_directory(\n",
        "    traindir, # same directory as training data\n",
        "    target_size=(img_height, img_width),\n",
        "    batch_size=batch_size,\n",
        "    class_mode='binary',\n",
        "    subset='validation') # set as validation data\n",
        "\n",
        "test_datagen = ImageDataGenerator(rescale=1./255)\n",
        "\n",
        "test_generator = test_datagen.flow_from_directory(\n",
        "    'test', \n",
        "    target_size=(img_height, img_width), \n",
        "    batch_size=batch_size, \n",
        "    class_mode='binary')\n",
        "\n",
        "# Fix for Corrupt Images\n",
        "def my_gen(gen):\n",
        "    while True:\n",
        "        try:\n",
        "            data, labels = next(gen)\n",
        "            yield data, labels\n",
        "        except:\n",
        "            pass\n",
        "\n",
        "# Learning rate is changed to 0.001\n",
        "sgd = SGD(lr=1e-3, decay=1e-6, momentum=0.9, nesterov=True)\n",
        "model.compile(optimizer=sgd, loss='sparse_categorical_crossentropy', metrics=['acc'])\n",
        "\n",
        "# Save accuracy to history\n",
        "filepath = 'models/' + sname + \".h5\"\n",
        "\n",
        "cblist = [\n",
        "    History(),\n",
        "    ModelCheckpoint(filepath, monitor='val_acc', verbose=1, save_best_only=True)\n",
        "]\n",
        "\n",
        "train = model.fit_generator(\n",
        "    my_gen(train_generator),\n",
        "    steps_per_epoch = train_generator.samples // batch_size,\n",
        "    validation_data = my_gen(validation_generator), \n",
        "    validation_steps = validation_generator.samples // batch_size,\n",
        "    epochs = nb_epochs,\n",
        "    callbacks=cblist)\n",
        "\n",
        "# Print model evaluation and save to results\n",
        "meval = model.evaluate_generator(test_generator, verbose=1)\n",
        "mev = 'test loss: %.5f - test acc: %.2f%%' % (meval[0], meval[1]*100)\n",
        "print(mev)\n",
        "%store meval > models/\"$sname\"_eval.txt\n",
        "%store mev > results/\"$sname\"_ev.txt"
      ],
      "execution_count": 0,
      "outputs": [
        {
          "output_type": "stream",
          "text": [
            "Loading model incept...\n"
          ],
          "name": "stdout"
        },
        {
          "output_type": "stream",
          "text": [
            "/usr/local/lib/python3.6/dist-packages/keras/engine/saving.py:341: UserWarning: No training configuration found in save file: the model was *not* compiled. Compile it manually.\n",
            "  warnings.warn('No training configuration found in save file: '\n"
          ],
          "name": "stderr"
        },
        {
          "output_type": "stream",
          "text": [
            "Found 850 images belonging to 10 classes.\n",
            "Found 150 images belonging to 10 classes.\n",
            "Found 1000 images belonging to 10 classes.\n",
            "Epoch 1/20\n",
            "17/17 [==============================] - 23s 1s/step - loss: 2.3540 - acc: 0.1212 - val_loss: 2.1560 - val_acc: 0.2733\n",
            "\n",
            "Epoch 00001: val_acc improved from -inf to 0.27333, saving model to models/incept_train100.h5\n",
            "Epoch 2/20\n",
            "17/17 [==============================] - 7s 418ms/step - loss: 2.1361 - acc: 0.2459 - val_loss: 1.8751 - val_acc: 0.4333\n",
            "\n",
            "Epoch 00002: val_acc improved from 0.27333 to 0.43333, saving model to models/incept_train100.h5\n",
            "Epoch 3/20\n",
            "17/17 [==============================] - 7s 432ms/step - loss: 1.9260 - acc: 0.4565 - val_loss: 1.8696 - val_acc: 0.5133\n",
            "\n",
            "Epoch 00003: val_acc improved from 0.43333 to 0.51333, saving model to models/incept_train100.h5\n",
            "Epoch 4/20\n",
            "17/17 [==============================] - 9s 516ms/step - loss: 1.7405 - acc: 0.5729 - val_loss: 1.5612 - val_acc: 0.6067\n",
            "\n",
            "Epoch 00004: val_acc improved from 0.51333 to 0.60667, saving model to models/incept_train100.h5\n",
            "Epoch 5/20\n",
            "17/17 [==============================] - 9s 517ms/step - loss: 1.5859 - acc: 0.6353 - val_loss: 1.4206 - val_acc: 0.6467\n",
            "\n",
            "Epoch 00005: val_acc improved from 0.60667 to 0.64667, saving model to models/incept_train100.h5\n",
            "Epoch 6/20\n",
            "17/17 [==============================] - 9s 516ms/step - loss: 1.4619 - acc: 0.6871 - val_loss: 1.2321 - val_acc: 0.6600\n",
            "\n",
            "Epoch 00006: val_acc improved from 0.64667 to 0.66000, saving model to models/incept_train100.h5\n",
            "Epoch 7/20\n",
            "17/17 [==============================] - 9s 515ms/step - loss: 1.3528 - acc: 0.7212 - val_loss: 1.1828 - val_acc: 0.6800\n",
            "\n",
            "Epoch 00007: val_acc improved from 0.66000 to 0.68000, saving model to models/incept_train100.h5\n",
            "Epoch 8/20\n",
            "17/17 [==============================] - 9s 514ms/step - loss: 1.2902 - acc: 0.7200 - val_loss: 1.0930 - val_acc: 0.6800\n",
            "\n",
            "Epoch 00008: val_acc did not improve from 0.68000\n",
            "Epoch 9/20\n",
            "17/17 [==============================] - 9s 542ms/step - loss: 1.1923 - acc: 0.7635 - val_loss: 0.9246 - val_acc: 0.7000\n",
            "\n",
            "Epoch 00009: val_acc improved from 0.68000 to 0.70000, saving model to models/incept_train100.h5\n",
            "Epoch 10/20\n",
            "17/17 [==============================] - 9s 520ms/step - loss: 1.1343 - acc: 0.7682 - val_loss: 1.2171 - val_acc: 0.7267\n",
            "\n",
            "Epoch 00010: val_acc improved from 0.70000 to 0.72667, saving model to models/incept_train100.h5\n",
            "Epoch 11/20\n",
            "17/17 [==============================] - 9s 516ms/step - loss: 1.0673 - acc: 0.7918 - val_loss: 0.9317 - val_acc: 0.7133\n",
            "\n",
            "Epoch 00011: val_acc did not improve from 0.72667\n",
            "Epoch 12/20\n",
            "17/17 [==============================] - 9s 539ms/step - loss: 1.0341 - acc: 0.7918 - val_loss: 0.9247 - val_acc: 0.7400\n",
            "\n",
            "Epoch 00012: val_acc improved from 0.72667 to 0.74000, saving model to models/incept_train100.h5\n",
            "Epoch 13/20\n",
            "17/17 [==============================] - 9s 514ms/step - loss: 0.9610 - acc: 0.8082 - val_loss: 1.0003 - val_acc: 0.7267\n",
            "\n",
            "Epoch 00013: val_acc did not improve from 0.74000\n",
            "Epoch 14/20\n",
            "17/17 [==============================] - 9s 542ms/step - loss: 0.9343 - acc: 0.8153 - val_loss: 1.0020 - val_acc: 0.7333\n",
            "\n",
            "Epoch 00014: val_acc did not improve from 0.74000\n",
            "Epoch 15/20\n",
            "17/17 [==============================] - 9s 546ms/step - loss: 0.9003 - acc: 0.8165 - val_loss: 1.0982 - val_acc: 0.7467\n",
            "\n",
            "Epoch 00015: val_acc improved from 0.74000 to 0.74667, saving model to models/incept_train100.h5\n",
            "Epoch 16/20\n",
            "17/17 [==============================] - 9s 514ms/step - loss: 0.8657 - acc: 0.8165 - val_loss: 0.8688 - val_acc: 0.7467\n",
            "\n",
            "Epoch 00016: val_acc did not improve from 0.74667\n",
            "Epoch 17/20\n",
            "17/17 [==============================] - 9s 541ms/step - loss: 0.8487 - acc: 0.8188 - val_loss: 0.9660 - val_acc: 0.7533\n",
            "\n",
            "Epoch 00017: val_acc improved from 0.74667 to 0.75333, saving model to models/incept_train100.h5\n",
            "Epoch 18/20\n",
            "17/17 [==============================] - 9s 515ms/step - loss: 0.8186 - acc: 0.8176 - val_loss: 0.9058 - val_acc: 0.7533\n",
            "\n",
            "Epoch 00018: val_acc did not improve from 0.75333\n",
            "Epoch 19/20\n",
            "17/17 [==============================] - 9s 540ms/step - loss: 0.7990 - acc: 0.8353 - val_loss: 0.9131 - val_acc: 0.7333\n",
            "\n",
            "Epoch 00019: val_acc did not improve from 0.75333\n",
            "Epoch 20/20\n",
            "17/17 [==============================] - 9s 535ms/step - loss: 0.7924 - acc: 0.8271 - val_loss: 1.0526 - val_acc: 0.7467\n",
            "\n",
            "Epoch 00020: val_acc did not improve from 0.75333\n",
            " 1/20 [>.............................] - ETA: 19s"
          ],
          "name": "stdout"
        },
        {
          "output_type": "stream",
          "text": [
            "Exception ignored in: <generator object my_gen at 0x7f32b9749ba0>\n",
            "RuntimeError: generator ignored GeneratorExit\n"
          ],
          "name": "stderr"
        },
        {
          "output_type": "stream",
          "text": [
            "\b\b\b\b\b\b\b\b\b\b\b\b\b\b\b\b\b\b\b\b\b\b\b\b\b\b\b\b\b\b\b\b\b\b\b\b\b\b\b\b\b\b\b\b\b\b\b\b\b\r 2/20 [==>...........................] - ETA: 14s"
          ],
          "name": "stdout"
        },
        {
          "output_type": "stream",
          "text": [
            "Exception ignored in: <generator object my_gen at 0x7f32bbe4d990>\n",
            "RuntimeError: generator ignored GeneratorExit\n"
          ],
          "name": "stderr"
        },
        {
          "output_type": "stream",
          "text": [
            "20/20 [==============================] - 9s 449ms/step\n",
            "test loss: 0.72662 - test acc: 78.90%\n",
            "Writing 'meval' (list) to file 'models/incept_train100_eval.txt'.\n",
            "Writing 'mev' (str) to file 'results/incept_train100_ev.txt'.\n"
          ],
          "name": "stdout"
        }
      ]
    },
    {
      "cell_type": "code",
      "metadata": {
        "id": "O1ELb6v7UKIe",
        "colab_type": "code",
        "outputId": "3f61201a-4473-48d7-ee1d-fb341e776606",
        "colab": {
          "base_uri": "https://localhost:8080/",
          "height": 34
        }
      },
      "source": [
        "# plt.clf()\n",
        "# plt.close('all')"
      ],
      "execution_count": 0,
      "outputs": [
        {
          "output_type": "display_data",
          "data": {
            "text/plain": [
              "<Figure size 432x288 with 0 Axes>"
            ]
          },
          "metadata": {
            "tags": []
          }
        }
      ]
    },
    {
      "cell_type": "code",
      "metadata": {
        "id": "w0rNBeOH47dx",
        "colab_type": "code",
        "outputId": "ca3df425-7391-4cee-8b56-665002e08537",
        "cellView": "form",
        "colab": {
          "base_uri": "https://localhost:8080/",
          "height": 608
        }
      },
      "source": [
        "#@title Plot accuracy and loss and save results\n",
        "\n",
        "# summarize history for accuracy\n",
        "plt.plot(train.history['acc'])\n",
        "plt.plot(train.history['val_acc'])\n",
        "plt.title('Model Accuracy')  \n",
        "plt.ylabel('Accuracy')\n",
        "plt.xlabel('Epoch')\n",
        "plt.xticks(range(0, nb_epochs))\n",
        "plt.legend(['Training', 'Validation'], loc='lower right')\n",
        "plt.savefig('results/' + sname + '_acc.png', bbox_inches='tight')\n",
        "plt.show()\n",
        "\n",
        "# summarize history for loss\n",
        "plt.plot(train.history['loss'])\n",
        "plt.plot(train.history['val_loss'])\n",
        "plt.title('Model Loss')\n",
        "plt.ylabel('Loss')\n",
        "plt.xlabel('Epoch')\n",
        "plt.xticks(range(0, nb_epochs))\n",
        "plt.legend(['Training', 'Validation'], loc='upper right')\n",
        "plt.savefig('results/' + sname + '_loss.png', bbox_inches='tight')\n",
        "plt.show()\n",
        "\n",
        "# build history dataframe and save\n",
        "hist_df = pd.DataFrame(train.history)\n",
        "%store train.history > results/\"$sname\"_history.txt\n",
        "%store hist_df > results/\"$sname\"_histdf.txt"
      ],
      "execution_count": 0,
      "outputs": [
        {
          "output_type": "display_data",
          "data": {
            "image/png": "[encoded data removed]",
            "text/plain": [
              "<Figure size 432x288 with 1 Axes>"
            ]
          },
          "metadata": {
            "tags": [],
            "needs_background": "light"
          }
        },
        {
          "output_type": "display_data",
          "data": {
            "image/png": "[encoded data removed]",
            "text/plain": [
              "<Figure size 432x288 with 1 Axes>"
            ]
          },
          "metadata": {
            "tags": [],
            "needs_background": "light"
          }
        },
        {
          "output_type": "stream",
          "text": [
            "Writing 'train.history' (dict) to file 'results/incept_train100_history.txt'.\n",
            "Writing 'hist_df' (DataFrame) to file 'results/incept_train100_histdf.txt'.\n"
          ],
          "name": "stdout"
        }
      ]
    },
    {
      "cell_type": "code",
      "metadata": {
        "id": "eph_fa6-YHda",
        "colab_type": "code",
        "outputId": "53ab4480-ca67-4e23-c695-1b861b872720",
        "colab": {
          "base_uri": "https://localhost:8080/",
          "height": 669
        }
      },
      "source": [
        "hist_df"
      ],
      "execution_count": 0,
      "outputs": [
        {
          "output_type": "execute_result",
          "data": {
            "text/html": [
              "<div>\n",
              "<style scoped>\n",
              "    .dataframe tbody tr th:only-of-type {\n",
              "        vertical-align: middle;\n",
              "    }\n",
              "\n",
              "    .dataframe tbody tr th {\n",
              "        vertical-align: top;\n",
              "    }\n",
              "\n",
              "    .dataframe thead th {\n",
              "        text-align: right;\n",
              "    }\n",
              "</style>\n",
              "<table border=\"1\" class=\"dataframe\">\n",
              "  <thead>\n",
              "    <tr style=\"text-align: right;\">\n",
              "      <th></th>\n",
              "      <th>val_loss</th>\n",
              "      <th>val_acc</th>\n",
              "      <th>loss</th>\n",
              "      <th>acc</th>\n",
              "    </tr>\n",
              "  </thead>\n",
              "  <tbody>\n",
              "    <tr>\n",
              "      <th>0</th>\n",
              "      <td>1.699004</td>\n",
              "      <td>0.528000</td>\n",
              "      <td>1.954387</td>\n",
              "      <td>0.391875</td>\n",
              "    </tr>\n",
              "    <tr>\n",
              "      <th>1</th>\n",
              "      <td>1.588994</td>\n",
              "      <td>0.527660</td>\n",
              "      <td>1.605360</td>\n",
              "      <td>0.529712</td>\n",
              "    </tr>\n",
              "    <tr>\n",
              "      <th>2</th>\n",
              "      <td>1.472056</td>\n",
              "      <td>0.621277</td>\n",
              "      <td>1.489801</td>\n",
              "      <td>0.537380</td>\n",
              "    </tr>\n",
              "    <tr>\n",
              "      <th>3</th>\n",
              "      <td>1.184747</td>\n",
              "      <td>0.617021</td>\n",
              "      <td>1.334899</td>\n",
              "      <td>0.592971</td>\n",
              "    </tr>\n",
              "    <tr>\n",
              "      <th>4</th>\n",
              "      <td>1.309450</td>\n",
              "      <td>0.693617</td>\n",
              "      <td>1.288112</td>\n",
              "      <td>0.617252</td>\n",
              "    </tr>\n",
              "    <tr>\n",
              "      <th>5</th>\n",
              "      <td>1.303739</td>\n",
              "      <td>0.706383</td>\n",
              "      <td>1.149035</td>\n",
              "      <td>0.683067</td>\n",
              "    </tr>\n",
              "    <tr>\n",
              "      <th>6</th>\n",
              "      <td>1.156175</td>\n",
              "      <td>0.724000</td>\n",
              "      <td>1.110734</td>\n",
              "      <td>0.695847</td>\n",
              "    </tr>\n",
              "    <tr>\n",
              "      <th>7</th>\n",
              "      <td>1.159007</td>\n",
              "      <td>0.736170</td>\n",
              "      <td>1.026815</td>\n",
              "      <td>0.717572</td>\n",
              "    </tr>\n",
              "    <tr>\n",
              "      <th>8</th>\n",
              "      <td>1.109099</td>\n",
              "      <td>0.774468</td>\n",
              "      <td>0.962062</td>\n",
              "      <td>0.752716</td>\n",
              "    </tr>\n",
              "    <tr>\n",
              "      <th>9</th>\n",
              "      <td>0.969011</td>\n",
              "      <td>0.770213</td>\n",
              "      <td>0.937974</td>\n",
              "      <td>0.743131</td>\n",
              "    </tr>\n",
              "    <tr>\n",
              "      <th>10</th>\n",
              "      <td>0.924714</td>\n",
              "      <td>0.795745</td>\n",
              "      <td>0.892619</td>\n",
              "      <td>0.761022</td>\n",
              "    </tr>\n",
              "    <tr>\n",
              "      <th>11</th>\n",
              "      <td>0.876130</td>\n",
              "      <td>0.808511</td>\n",
              "      <td>0.861197</td>\n",
              "      <td>0.769968</td>\n",
              "    </tr>\n",
              "    <tr>\n",
              "      <th>12</th>\n",
              "      <td>0.944330</td>\n",
              "      <td>0.804000</td>\n",
              "      <td>0.803059</td>\n",
              "      <td>0.789137</td>\n",
              "    </tr>\n",
              "    <tr>\n",
              "      <th>13</th>\n",
              "      <td>0.920551</td>\n",
              "      <td>0.812766</td>\n",
              "      <td>0.772929</td>\n",
              "      <td>0.794249</td>\n",
              "    </tr>\n",
              "    <tr>\n",
              "      <th>14</th>\n",
              "      <td>0.734765</td>\n",
              "      <td>0.889362</td>\n",
              "      <td>0.797140</td>\n",
              "      <td>0.775080</td>\n",
              "    </tr>\n",
              "    <tr>\n",
              "      <th>15</th>\n",
              "      <td>0.702465</td>\n",
              "      <td>0.821277</td>\n",
              "      <td>0.719622</td>\n",
              "      <td>0.810863</td>\n",
              "    </tr>\n",
              "    <tr>\n",
              "      <th>16</th>\n",
              "      <td>0.707189</td>\n",
              "      <td>0.855319</td>\n",
              "      <td>0.713438</td>\n",
              "      <td>0.810224</td>\n",
              "    </tr>\n",
              "    <tr>\n",
              "      <th>17</th>\n",
              "      <td>0.627981</td>\n",
              "      <td>0.838298</td>\n",
              "      <td>0.680353</td>\n",
              "      <td>0.813419</td>\n",
              "    </tr>\n",
              "    <tr>\n",
              "      <th>18</th>\n",
              "      <td>0.789623</td>\n",
              "      <td>0.868000</td>\n",
              "      <td>0.697358</td>\n",
              "      <td>0.814058</td>\n",
              "    </tr>\n",
              "    <tr>\n",
              "      <th>19</th>\n",
              "      <td>0.843006</td>\n",
              "      <td>0.889362</td>\n",
              "      <td>0.618171</td>\n",
              "      <td>0.840895</td>\n",
              "    </tr>\n",
              "  </tbody>\n",
              "</table>\n",
              "</div>"
            ],
            "text/plain": [
              "    val_loss   val_acc      loss       acc\n",
              "0   1.699004  0.528000  1.954387  0.391875\n",
              "1   1.588994  0.527660  1.605360  0.529712\n",
              "2   1.472056  0.621277  1.489801  0.537380\n",
              "3   1.184747  0.617021  1.334899  0.592971\n",
              "4   1.309450  0.693617  1.288112  0.617252\n",
              "5   1.303739  0.706383  1.149035  0.683067\n",
              "6   1.156175  0.724000  1.110734  0.695847\n",
              "7   1.159007  0.736170  1.026815  0.717572\n",
              "8   1.109099  0.774468  0.962062  0.752716\n",
              "9   0.969011  0.770213  0.937974  0.743131\n",
              "10  0.924714  0.795745  0.892619  0.761022\n",
              "11  0.876130  0.808511  0.861197  0.769968\n",
              "12  0.944330  0.804000  0.803059  0.789137\n",
              "13  0.920551  0.812766  0.772929  0.794249\n",
              "14  0.734765  0.889362  0.797140  0.775080\n",
              "15  0.702465  0.821277  0.719622  0.810863\n",
              "16  0.707189  0.855319  0.713438  0.810224\n",
              "17  0.627981  0.838298  0.680353  0.813419\n",
              "18  0.789623  0.868000  0.697358  0.814058\n",
              "19  0.843006  0.889362  0.618171  0.840895"
            ]
          },
          "metadata": {
            "tags": []
          },
          "execution_count": 39
        }
      ]
    },
    {
      "cell_type": "code",
      "metadata": {
        "id": "dIi2Z899I7g8",
        "colab_type": "code",
        "cellView": "form",
        "outputId": "2a8ebb38-1d32-4bda-e379-c76d985e21a5",
        "colab": {
          "base_uri": "https://localhost:8080/",
          "height": 69
        }
      },
      "source": [
        "#@title Predictions with current model of directory: { vertical-output: true }\n",
        "pred_model = 'incept_train100' #@param ['xcept_train100','xcept_train1000','xcept_train10000', 'vgg16_train100', 'vgg16_train1000', 'vgg16_train10000','incept_train100','incept_train1000','incept_train10000']\n",
        "\n",
        "pred_dir = 'test' #@param ['test', 'train100','train1000', 'train10000', 'teddy']\n",
        "\n",
        "\n",
        "print('Loading model models/' + pred_model + '.h5...')\n",
        "model = load_model('models/' + pred_model + '.h5')\n",
        "\n",
        "pred_datagen = ImageDataGenerator(rescale=1./255)\n",
        "\n",
        "pred_generator = test_datagen.flow_from_directory(\n",
        "    pred_dir, \n",
        "    target_size=(img_height, img_width), \n",
        "    batch_size=batch_size, \n",
        "    class_mode='binary')\n",
        "\n",
        "pred = model.predict_generator(pred_generator, pred_generator.samples // batch_size, verbose=1)"
      ],
      "execution_count": 0,
      "outputs": [
        {
          "output_type": "stream",
          "text": [
            "Loading model models/incept_train100.h5...\n",
            "Found 1000 images belonging to 10 classes.\n",
            "20/20 [==============================] - 11s 539ms/step\n"
          ],
          "name": "stdout"
        }
      ]
    },
    {
      "cell_type": "code",
      "metadata": {
        "id": "7obtE3uLQSEj",
        "colab_type": "code",
        "cellView": "form",
        "outputId": "f27c17ec-382d-446a-b38d-c90cde925111",
        "colab": {
          "base_uri": "https://localhost:8080/",
          "height": 514
        }
      },
      "source": [
        "#@title Create Confusion Matrix from Predictions { vertical-output: true }\n",
        "\n",
        "import seaborn as sn\n",
        "from sklearn.metrics import confusion_matrix\n",
        "y_true = pred_generator.classes\n",
        "y_pred = np.argmax(pred, axis=-1)\n",
        "cm = confusion_matrix(y_true, y_pred)\n",
        "\n",
        "labels = ['bear', 'bird','cat', 'cow', 'dog', 'elephant', 'giraffe', 'other', \n",
        "          'sheep', 'zebra']\n",
        "\n",
        "df_cm = pd.DataFrame(cm, index = [i for i in labels],\n",
        "                  columns = [i for i in labels])\n",
        "df_cm.index.name = 'Actual'\n",
        "df_cm.columns.name = 'Predicted'\n",
        "plt.figure(figsize = (10,7))\n",
        "sn.heatmap(df_cm, annot=True, annot_kws={\"size\": 16})\n",
        "# sn.set(font_scale=1.4)\n",
        "plt.savefig('results/'+ pred_model + '_pred_' + pred_dir + '_cm.png', bbox_inches='tight')\n",
        "print('results/'+ pred_model + '_pred_' + pred_dir + '_cm.png')\n",
        "plt.show()"
      ],
      "execution_count": 0,
      "outputs": [
        {
          "output_type": "stream",
          "text": [
            "/usr/local/lib/python3.6/dist-packages/statsmodels/tools/_testing.py:19: FutureWarning: pandas.util.testing is deprecated. Use the functions in the public API at pandas.testing instead.\n",
            "  import pandas.util.testing as tm\n"
          ],
          "name": "stderr"
        },
        {
          "output_type": "stream",
          "text": [
            "results/incept_train100_pred_test_cm.png\n"
          ],
          "name": "stdout"
        },
        {
          "output_type": "display_data",
          "data": {
            "image/png": "[encoded data removed]",
            "text/plain": [
              "<Figure size 720x504 with 2 Axes>"
            ]
          },
          "metadata": {
            "tags": [],
            "needs_background": "light"
          }
        }
      ]
    },
    {
      "cell_type": "code",
      "metadata": {
        "id": "Muli3dG_LsJC",
        "colab_type": "code",
        "outputId": "d9fd8c53-1f9a-426f-8fb6-6022ad6cd870",
        "colab": {
          "base_uri": "https://localhost:8080/",
          "height": 111
        }
      },
      "source": [
        "#@title Predictions as Pandas Dataframe\n",
        "\n",
        "pred_files = pred_generator.filenames\n",
        "pred_df = pd.DataFrame(pred)\n",
        "pred_df.columns = ['bear', 'bird','cat', 'cow', 'dog', 'elephant', 'giraffe', 'other', 'sheep', 'zebra']\n",
        "\n",
        "# [i.split('\\t', 1)[0] for i in l]\n",
        "pred_df['file'] = pred_files\n",
        "pred_df.insert(0, 'class', [item.split('/')[0] for item in pred_files])\n",
        "pred_df\n",
        "\n",
        "# Average of predicted class by actual class\n",
        "class_preds = pred_df.groupby('class').mean().round(5).astype(object)*100\n",
        "class_preds\n"
      ],
      "execution_count": 0,
      "outputs": [
        {
          "output_type": "execute_result",
          "data": {
            "text/html": [
              "<div>\n",
              "<style scoped>\n",
              "    .dataframe tbody tr th:only-of-type {\n",
              "        vertical-align: middle;\n",
              "    }\n",
              "\n",
              "    .dataframe tbody tr th {\n",
              "        vertical-align: top;\n",
              "    }\n",
              "\n",
              "    .dataframe thead th {\n",
              "        text-align: right;\n",
              "    }\n",
              "</style>\n",
              "<table border=\"1\" class=\"dataframe\">\n",
              "  <thead>\n",
              "    <tr style=\"text-align: right;\">\n",
              "      <th></th>\n",
              "      <th>bear</th>\n",
              "      <th>bird</th>\n",
              "      <th>cat</th>\n",
              "      <th>cow</th>\n",
              "      <th>dog</th>\n",
              "      <th>elephant</th>\n",
              "      <th>giraffe</th>\n",
              "      <th>other</th>\n",
              "      <th>sheep</th>\n",
              "      <th>zebra</th>\n",
              "    </tr>\n",
              "    <tr>\n",
              "      <th>class</th>\n",
              "      <th></th>\n",
              "      <th></th>\n",
              "      <th></th>\n",
              "      <th></th>\n",
              "      <th></th>\n",
              "      <th></th>\n",
              "      <th></th>\n",
              "      <th></th>\n",
              "      <th></th>\n",
              "      <th></th>\n",
              "    </tr>\n",
              "  </thead>\n",
              "  <tbody>\n",
              "    <tr>\n",
              "      <th>other</th>\n",
              "      <td>1.371</td>\n",
              "      <td>2.17</td>\n",
              "      <td>2.94</td>\n",
              "      <td>1.013</td>\n",
              "      <td>2.92</td>\n",
              "      <td>0.589</td>\n",
              "      <td>0.756</td>\n",
              "      <td>86.667</td>\n",
              "      <td>1.139</td>\n",
              "      <td>0.435</td>\n",
              "    </tr>\n",
              "  </tbody>\n",
              "</table>\n",
              "</div>"
            ],
            "text/plain": [
              "        bear  bird   cat    cow   dog elephant giraffe   other  sheep  zebra\n",
              "class                                                                       \n",
              "other  1.371  2.17  2.94  1.013  2.92    0.589   0.756  86.667  1.139  0.435"
            ]
          },
          "metadata": {
            "tags": []
          },
          "execution_count": 160
        }
      ]
    },
    {
      "cell_type": "code",
      "metadata": {
        "id": "JDjeQHxkIPkA",
        "colab_type": "code",
        "outputId": "d1631274-2d5d-436d-8129-58a33388fb5c",
        "colab": {
          "base_uri": "https://localhost:8080/",
          "height": 51
        }
      },
      "source": [
        "%store pred_df > results/\"$pred_model\"_teddy_all.txt\n",
        "%store class_preds > results/\"$pred_model\"_teddy.txt"
      ],
      "execution_count": 0,
      "outputs": [
        {
          "output_type": "stream",
          "text": [
            "Writing 'pred_df' (DataFrame) to file 'results/xcept_train10000_teddy_all.txt'.\n",
            "Writing 'class_preds' (DataFrame) to file 'results/xcept_train10000_teddy.txt'.\n"
          ],
          "name": "stdout"
        }
      ]
    },
    {
      "cell_type": "markdown",
      "metadata": {
        "id": "2WThzzssF5vm",
        "colab_type": "text"
      },
      "source": [
        "# Results File Download"
      ]
    },
    {
      "cell_type": "code",
      "metadata": {
        "id": "r2IuPwLf2MC8",
        "colab_type": "code",
        "cellView": "form",
        "outputId": "fb4845c4-8649-4323-f8c2-881fb34b9f75",
        "colab": {
          "base_uri": "https://localhost:8080/",
          "height": 595
        }
      },
      "source": [
        "#@title Save results to csc server:\n",
        "#@markdown http://csc.lsu.edu/~bess/aniclass/results\n",
        "\n",
        "!rm results.tgz\n",
        "!tar czvf results.tgz results/\n",
        "from google.colab import files\n",
        "files.download('results.tgz')"
      ],
      "execution_count": 0,
      "outputs": [
        {
          "output_type": "stream",
          "text": [
            "results/\n",
            "results/xcept_train10000_loss.png\n",
            "results/xcept_train100_pred_train100_cm.png\n",
            "results/xcept_train100_acc.png\n",
            "results/xcept_train1000_teddy.txt\n",
            "results/xcept_train100_loss.png\n",
            "results/xcept_train1000_pred_train1000_cm.png\n",
            "results/xcept_train1000_pred_test_cm.png\n",
            "results/xcept_train100_histdf.txt\n",
            "results/xcept_train100_teddy_all.txt\n",
            "results/xcept_train1000_histdf.txt\n",
            "results/xcept_train10000_pred_train1000_cm.png\n",
            "results/xcept_train10000_pred_train10000_cm.png\n",
            "results/xcept_train1000_history.txt\n",
            "results/xcept_train10000_pred_test_cm.png\n",
            "results/xcept_train1000_pred_train10000_cm.png\n",
            "results/xcept_train10000_pred_train100_cm.png\n",
            "results/.ipynb_checkpoints/\n",
            "results/xcept_train100_pred_test_cm.png\n",
            "results/xcept_train10000_ev.txt\n",
            "results/xcept_train1000_pred_train100_cm.png\n",
            "results/xcept_train1000_teddy_all.txt\n",
            "results/xcept_train1000_loss.png\n",
            "results/xcept_train100_history.txt\n",
            "results/xcept_train1000_ev.txt\n",
            "results/xcept_train10000_acc.png\n",
            "results/xcept_train10000_teddy_all.txt\n",
            "results/xcept_train100_teddy.txt\n",
            "results/xcept_train10000_teddy.txt\n",
            "results/xcept_train100_pred_train10000_cm.png\n",
            "results/xcept_train100_ev.txt\n",
            "results/xcept_train100_pred_train1000_cm.png\n",
            "results/xcept_train10000_histdf.txt\n",
            "results/xcept_train10000_history.txt\n"
          ],
          "name": "stdout"
        }
      ]
    },
    {
      "cell_type": "markdown",
      "metadata": {
        "id": "2LFDFyQqUW3I",
        "colab_type": "text"
      },
      "source": [
        "# The following code is for individual image and model tests"
      ]
    },
    {
      "cell_type": "code",
      "metadata": {
        "id": "_F7pj2zCEC_N",
        "colab_type": "code",
        "colab": {}
      },
      "source": [
        "# Get Test Images\n",
        "!wget -nc -q -P example_images/ https://upload.wikimedia.org/wikipedia/commons/f/f9/Zoorashia_elephant.jpg\n",
        "!wget -nc -q http://farm1.static.flickr.com/145/430300483_21e993670c.jpg -O example_images/eagle.jpg"
      ],
      "execution_count": 0,
      "outputs": []
    },
    {
      "cell_type": "code",
      "metadata": {
        "id": "CFafrbq9Dnjs",
        "colab_type": "code",
        "colab": {}
      },
      "source": [
        "# Test Images Individually\n",
        "\n",
        "# load an image from file\n",
        "image = load_img('example_images/eagle.jpg', target_size=(224, 224))\n",
        "image = img_to_array(image)\n",
        "\n",
        "# reshape data for the model\n",
        "image = image.reshape((1, image.shape[0], image.shape[1], image.shape[2]))\n",
        "\n",
        "# prepare the image for the VGG model\n",
        "image = preprocess_input(image)\n",
        "features = vgg16_pre.predict(image)\n",
        "\n",
        "# Print Predictions\n",
        "print('Predictions:')\n",
        "preds = decode_predictions(features, top=5)[0]\n",
        "for p in preds:\n",
        "  print('%s: %s (%.2f%%)' % (p[0], p[1], p[2]*100))"
      ],
      "execution_count": 0,
      "outputs": []
    },
    {
      "cell_type": "code",
      "metadata": {
        "id": "Tvx4sHdZGxt7",
        "colab_type": "code",
        "colab": {}
      },
      "source": [
        "def show_batch(image_batch, label_batch):\n",
        "  plt.figure(figsize=(10,10))\n",
        "  for n in range(25):\n",
        "      ax = plt.subplot(5,5,n+1)\n",
        "      plt.imshow(image_batch[n])\n",
        "      plt.title(CLASS_NAMES[label_batch[n]==1][0].title())\n",
        "      plt.axis('off')"
      ],
      "execution_count": 0,
      "outputs": []
    },
    {
      "cell_type": "code",
      "metadata": {
        "id": "KjZQLcsAETop",
        "colab_type": "code",
        "outputId": "55d242ea-5c1f-4d95-c6b5-b2a9b9734d70",
        "colab": {
          "base_uri": "https://localhost:8080/",
          "height": 51
        }
      },
      "source": [
        "import pathlib\n",
        "\n",
        "# data_dir = utils.get_file(origin='https://storage.googleapis.com/download.tensorflow.org/example_images/flower_photos.tgz',fname='flower_photos', untar=True)\n",
        "\n",
        "data_dir = pathlib.Path('ImageNetOther/')\n",
        "\n",
        "image_count = len(list(data_dir.glob('*/*.jpg')))\n",
        "image_count\n",
        "\n",
        "CLASS_NAMES = np.array([item.name for item in data_dir.glob('*') if item.name != \"LICENSE.txt\"])\n",
        "CLASS_NAMES\n",
        "\n",
        "image_generator = ImageDataGenerator(rescale=1./255)\n",
        "\n",
        "BATCH_SIZE = 32\n",
        "IMG_HEIGHT = 224\n",
        "IMG_WIDTH = 224\n",
        "STEPS_PER_EPOCH = np.ceil(image_count/BATCH_SIZE)\n",
        "\n",
        "train_data_gen = image_generator.flow_from_directory(directory=str(data_dir),\n",
        "                                                     batch_size=BATCH_SIZE,\n",
        "                                                     shuffle=True,\n",
        "                                                     target_size=(IMG_HEIGHT, IMG_WIDTH),\n",
        "                                                     classes = list(CLASS_NAMES))\n",
        "\n",
        "test_generator = image_generator.flow_from_directory(directory=str(data_dir),\n",
        "    target_size=(IMG_HEIGHT, IMG_WIDTH),\n",
        "    batch_size=1,\n",
        "    class_mode=None,\n",
        "    shuffle=False,\n",
        "    seed=42\n",
        ")\n",
        "\n",
        "# test_gen = datagen.flow_from_directory('/content/drive/My Drive/CSC7333/test/', target_size=(224,224), class_mode='binary')\n",
        "# test_samples = len(test_gen.filenames)"
      ],
      "execution_count": 0,
      "outputs": [
        {
          "output_type": "stream",
          "text": [
            "Found 100 images belonging to 1 classes.\n",
            "Found 100 images belonging to 1 classes.\n"
          ],
          "name": "stdout"
        }
      ]
    },
    {
      "cell_type": "code",
      "metadata": {
        "id": "Ej9je0T6E0SP",
        "colab_type": "code",
        "colab": {}
      },
      "source": [
        "image_batch, label_batch = next(train_data_gen)\n",
        "show_batch(image_batch, label_batch)"
      ],
      "execution_count": 0,
      "outputs": []
    },
    {
      "cell_type": "code",
      "metadata": {
        "id": "eVWD1QbuIrkq",
        "colab_type": "code",
        "colab": {}
      },
      "source": [
        "print(test_generator.filenames[82])\n",
        "print(test_generator.filenames[83])"
      ],
      "execution_count": 0,
      "outputs": []
    },
    {
      "cell_type": "code",
      "metadata": {
        "id": "nZiYefW-HQqL",
        "colab_type": "code",
        "colab": {}
      },
      "source": [
        "STEP_SIZE_TEST = test_generator.n//test_generator.batch_size\n",
        "\n",
        "test_generator.reset()\n",
        "\n",
        "pred = ovgg16.predict_generator(test_generator, steps=STEP_SIZE_TEST, verbose=1)\n",
        "\n",
        "# predicted_class_indices=np.argmax(pred,axis=1)"
      ],
      "execution_count": 0,
      "outputs": []
    },
    {
      "cell_type": "code",
      "metadata": {
        "id": "CjzGdppoJb8P",
        "colab_type": "code",
        "colab": {}
      },
      "source": [
        "predicted_class_indices=np.argmax(pred,axis=1)\n",
        "print(predicted_class_indices)"
      ],
      "execution_count": 0,
      "outputs": []
    },
    {
      "cell_type": "code",
      "metadata": {
        "id": "cV5KN-tpJyt6",
        "colab_type": "code",
        "colab": {}
      },
      "source": [
        "# Print Predictions\n",
        "print('Predictions:')\n",
        "preds = decode_predictions(pred, top=5)[0]\n",
        "for p in preds:\n",
        "  print('%s: %s (%.2f%%)' % (p[0], p[1], p[2]*100))"
      ],
      "execution_count": 0,
      "outputs": []
    }
  ]
}